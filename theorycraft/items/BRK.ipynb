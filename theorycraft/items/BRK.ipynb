{
 "cells": [
  {
   "cell_type": "markdown",
   "id": "f0ba3253-fe1e-46d9-8bbc-2bd42cfa4bf8",
   "metadata": {},
   "source": [
    "# Web scraping stat BRK"
   ]
  },
  {
   "cell_type": "code",
   "execution_count": null,
   "id": "cb8b7a6c-8b39-4b0d-8611-0b2a79abf3d5",
   "metadata": {},
   "outputs": [],
   "source": [
    "import pandas as pd\n",
    "import requests\n",
    "from bs4 import BeautifulSoup\n",
    "import re"
   ]
  },
  {
   "cell_type": "code",
   "execution_count": null,
   "id": "d141dfeb-f794-4afd-9313-e41a46f81812",
   "metadata": {},
   "outputs": [],
   "source": [
    "url = \"https://leagueoflegends.fandom.com/wiki/Blade_of_the_Ruined_King\"\n",
    "url"
   ]
  },
  {
   "cell_type": "code",
   "execution_count": null,
   "id": "e6a6837d-9612-4d6f-96bf-54ef0df63050",
   "metadata": {},
   "outputs": [],
   "source": [
    "response = requests.get(url)\n",
    "html = BeautifulSoup(response.text, \"html.parser\")"
   ]
  },
  {
   "cell_type": "markdown",
   "id": "118548d3-0284-4b5e-a0d0-6d3cd888a059",
   "metadata": {},
   "source": [
    "## Bases stats"
   ]
  },
  {
   "cell_type": "code",
   "execution_count": null,
   "id": "8d017fd0-7162-4936-802f-cc0404450196",
   "metadata": {},
   "outputs": [],
   "source": [
    "brk_stat = html.findAll(\"div\",{\"class\" : \"pi-data-value pi-font\"})[:3]\n",
    "brk_stat"
   ]
  },
  {
   "cell_type": "code",
   "execution_count": null,
   "id": "1fa22381-1000-4a51-9268-899c055e1226",
   "metadata": {},
   "outputs": [],
   "source": [
    "for idx,stats in enumerate(brk_stat):\n",
    "    brk_stat[idx] = re.search(r'(\\d+)', stats.text).group(1)\n",
    "\n",
    "# take account of %\n",
    "brk_stat = list(map(int,brk_stat))\n",
    "brk_stat[1] /=100\n",
    "brk_stat[2] /=100\n",
    "print(brk_stat)\n"
   ]
  },
  {
   "cell_type": "markdown",
   "id": "84ab4eec-82a9-49ea-b898-6e35080b17a1",
   "metadata": {},
   "source": [
    "## HP % Passive"
   ]
  },
  {
   "cell_type": "code",
   "execution_count": null,
   "id": "93a8a536-eace-4375-b0d3-e799bf766810",
   "metadata": {},
   "outputs": [],
   "source": [
    "#brk_passives = html.findAll(\"div\",{\"class\" : \"pi-data-value pi-font\"})[3:5]\n",
    "brk_passive  = html.find(\"span\",{\"style\": \"white-space:pre; position:relative;\", \"data-game\"  : \"lol\"})\n",
    "brk_passive = brk_passive.text\n",
    "brk_passive = re.search(r'(\\d+)', brk_passive).group(1)\n",
    "brk_passive = float(brk_passive) / 100\n",
    "brk_passive"
   ]
  },
  {
   "cell_type": "code",
   "execution_count": null,
   "id": "2a7d2884-7264-4f94-ac5f-335b58d6111e",
   "metadata": {},
   "outputs": [],
   "source": [
    "brk_passive_range  = html.find(\"span\",{\"style\": \"white-space:pre; position:relative;\", \"data-game\"  : \"lol\" , \"data-tip\" : \"Ranged\"})\n",
    "brk_passive_range = brk_passive_range.text\n",
    "brk_passive_range = re.search(r'(\\d+)', brk_passive_range).group(1)\n",
    "brk_passive_range = float(brk_passive_range) / 100\n",
    "brk_passive_range"
   ]
  },
  {
   "cell_type": "markdown",
   "id": "3e7ac1f4-87e8-40ae-8264-796e4924b5ce",
   "metadata": {},
   "source": [
    "## Slow passive"
   ]
  },
  {
   "cell_type": "code",
   "execution_count": null,
   "id": "83842693-021e-4011-a5cf-329ab9c72a4c",
   "metadata": {},
   "outputs": [],
   "source": [
    "brk_3autos = html.find(\"span\",{\"style\" : \"position:relative; border-bottom:1px dotted; cursor:help;\"})\n",
    "print(brk_3autos['data-bot_values'])\n",
    "print(brk_3autos['data-top_values'])"
   ]
  },
  {
   "cell_type": "code",
   "execution_count": null,
   "id": "2e462d39-3bd6-40ba-9ab3-56fc5a205a07",
   "metadata": {},
   "outputs": [],
   "source": [
    "three_autos_lvl = brk_3autos['data-top_values'].split(\";\")\n",
    "print(three_autos_lvl)\n",
    "three_autos_dmg = brk_3autos['data-bot_values'].split(\";\")\n",
    "print(three_autos_dmg)\n",
    "\n",
    "three_autos_dict = {key: value for key, value in zip(three_autos_lvl, three_autos_dmg)}\n",
    "print(three_autos_dict)\n"
   ]
  },
  {
   "cell_type": "markdown",
   "id": "4033647b-7d0e-4ccf-98fa-19dcf7f57d25",
   "metadata": {},
   "source": [
    "## Item creation"
   ]
  },
  {
   "cell_type": "code",
   "execution_count": null,
   "id": "5aabeccf-7eb9-4f48-9319-6759b5291c74",
   "metadata": {},
   "outputs": [],
   "source": [
    "%run \"class_item.ipynb\"\n",
    "import copy"
   ]
  },
  {
   "cell_type": "code",
   "execution_count": null,
   "id": "dbea16d1-1315-4e80-8228-54f15696a424",
   "metadata": {},
   "outputs": [],
   "source": [
    "brk_dict = {\"ad\" : brk_stat[0], \"as\" : brk_stat[1], \"lifesteal\" : brk_stat[2]}\n",
    "brk_dict['passive'] = brk_passive\n",
    "brk_dict['three_autos'] = three_autos_dict\n",
    "brk_dict_range = copy.deepcopy(brk_dict)\n",
    "brk_dict_range['passive'] = brk_passive_range\n"
   ]
  },
  {
   "cell_type": "code",
   "execution_count": null,
   "id": "4bc44fe1-ea99-466b-b3e0-9f4f1398c16f",
   "metadata": {},
   "outputs": [],
   "source": [
    "BRK_melee = Item(\"brk\", brk_dict)\n",
    "BRK_range = Item(\"brk\", brk_dict_range)"
   ]
  },
  {
   "cell_type": "code",
   "execution_count": null,
   "id": "8e672b8c-2aaf-4a1a-a3bd-278a07ef86f2",
   "metadata": {},
   "outputs": [],
   "source": [
    "print(BRK_melee)\n",
    "print(BRK_range)"
   ]
  }
 ],
 "metadata": {
  "jupytext": {
   "formats": "ipynb,auto:percent"
  },
  "kernelspec": {
   "display_name": "Python 3 (ipykernel)",
   "language": "python",
   "name": "python3"
  },
  "language_info": {
   "codemirror_mode": {
    "name": "ipython",
    "version": 3
   },
   "file_extension": ".py",
   "mimetype": "text/x-python",
   "name": "python",
   "nbconvert_exporter": "python",
   "pygments_lexer": "ipython3",
   "version": "3.11.1"
  }
 },
 "nbformat": 4,
 "nbformat_minor": 5
}
