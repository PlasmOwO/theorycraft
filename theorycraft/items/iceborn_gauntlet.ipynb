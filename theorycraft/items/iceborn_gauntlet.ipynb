{
 "cells": [
  {
   "cell_type": "markdown",
   "id": "bc112bb2-f502-408e-a96c-17df109cb4a6",
   "metadata": {},
   "source": [
    "# Web scraping stats Iceborn Gauntlet"
   ]
  },
  {
   "cell_type": "code",
   "execution_count": 1,
   "id": "3bb15346-d637-453b-a804-fdee47d3a51c",
   "metadata": {},
   "outputs": [],
   "source": [
    "import pandas as pd\n",
    "import requests\n",
    "from bs4 import BeautifulSoup\n",
    "import re"
   ]
  },
  {
   "cell_type": "code",
   "execution_count": 2,
   "id": "25175007-5a74-4d00-96a7-9e86a9471921",
   "metadata": {},
   "outputs": [
    {
     "data": {
      "text/plain": [
       "'https://leagueoflegends.fandom.com/wiki/Iceborn_Gauntlet'"
      ]
     },
     "execution_count": 2,
     "metadata": {},
     "output_type": "execute_result"
    }
   ],
   "source": [
    "url = \"https://leagueoflegends.fandom.com/wiki/Iceborn_Gauntlet\"\n",
    "url"
   ]
  },
  {
   "cell_type": "code",
   "execution_count": 3,
   "id": "854c086a-a612-4db1-9013-a3d5bedffdd4",
   "metadata": {},
   "outputs": [],
   "source": [
    "response = requests.get(url)\n",
    "html = BeautifulSoup(response.text, \"html.parser\")"
   ]
  },
  {
   "cell_type": "markdown",
   "id": "e08fe0bf-ed39-42ed-bda1-e98f4743114e",
   "metadata": {},
   "source": [
    "## Bases stats"
   ]
  },
  {
   "cell_type": "code",
   "execution_count": 4,
   "id": "8d006de7-ca64-48ca-8342-32177b50f702",
   "metadata": {},
   "outputs": [
    {
     "data": {
      "text/plain": [
       "[<div class=\"pi-data-value pi-font\">+20 <a class=\"mw-redirect\" href=\"/wiki/Ability_haste\" title=\"Ability haste\">ability haste</a></div>,\n",
       " <div class=\"pi-data-value pi-font\">+50 <a href=\"/wiki/Armor\" title=\"Armor\">armor</a></div>,\n",
       " <div class=\"pi-data-value pi-font\">+400 <a href=\"/wiki/Health\" title=\"Health\">health</a></div>]"
      ]
     },
     "execution_count": 4,
     "metadata": {},
     "output_type": "execute_result"
    }
   ],
   "source": [
    "iceborn_stats = html.findAll(\"div\",{\"class\" : \"pi-data-value pi-font\"})[:3]\n",
    "iceborn_stats"
   ]
  },
  {
   "cell_type": "code",
   "execution_count": 5,
   "id": "9bf05591-b61d-4ea9-a136-5d4f75d61ed2",
   "metadata": {},
   "outputs": [
    {
     "name": "stdout",
     "output_type": "stream",
     "text": [
      "[20, 50, 400]\n"
     ]
    }
   ],
   "source": [
    "for idx,stats in enumerate(iceborn_stats):\n",
    "    iceborn_stats[idx] = re.search(r'(\\d+)', stats.text).group(1)\n",
    "\n",
    "# take account of %\n",
    "iceborn_stats = list(map(int,iceborn_stats))\n",
    "print(iceborn_stats)"
   ]
  },
  {
   "cell_type": "markdown",
   "id": "ca4a1942-c609-4d36-a4da-da3f518d8b21",
   "metadata": {},
   "source": [
    "## SpellBlade"
   ]
  },
  {
   "cell_type": "code",
   "execution_count": 6,
   "id": "f96d82a1-0f47-48a3-b9b3-a7ed4cb1ba59",
   "metadata": {},
   "outputs": [
    {
     "name": "stdout",
     "output_type": "stream",
     "text": [
      "1.0\n"
     ]
    }
   ],
   "source": [
    "spellblade = html.findAll(\"span\", {\"style\" : \"color:orange; white-space:normal\"})[2]\n",
    "spellblade = float(re.search(r'(\\d+)', spellblade.text).group(1)) /100\n",
    "print(spellblade)"
   ]
  },
  {
   "cell_type": "markdown",
   "id": "33509cf1-4fc4-47df-9d10-7904fd226f11",
   "metadata": {},
   "source": [
    "## Item Creation"
   ]
  },
  {
   "cell_type": "code",
   "execution_count": 7,
   "id": "73c496e2-b142-43f4-b682-bd65179cc891",
   "metadata": {},
   "outputs": [],
   "source": [
    "%run class_item.ipynb"
   ]
  },
  {
   "cell_type": "code",
   "execution_count": 14,
   "id": "a5d730d7-32ad-459d-b306-59d20682dc7d",
   "metadata": {},
   "outputs": [],
   "source": [
    "iceborn_dict = {\"haste\" : iceborn_stats[0], \"armor\" : iceborn_stats[1], \"hp\" : iceborn_stats[2],\"spellblade\" : spellblade}\n"
   ]
  },
  {
   "cell_type": "code",
   "execution_count": 15,
   "id": "9c87f30f-66a9-40a5-85fa-c63528e8fe43",
   "metadata": {},
   "outputs": [],
   "source": [
    "Iceborn = Item(\"iceborn\", iceborn_dict)"
   ]
  },
  {
   "cell_type": "code",
   "execution_count": 16,
   "id": "47447287-defc-4c69-bc6b-8320a3c49018",
   "metadata": {},
   "outputs": [
    {
     "name": "stdout",
     "output_type": "stream",
     "text": [
      "iceborn = {'haste': 20, 'armor': 50, 'hp': 400, 'spellblade': 1.0}\n"
     ]
    }
   ],
   "source": [
    "print(Iceborn)"
   ]
  }
 ],
 "metadata": {
  "kernelspec": {
   "display_name": "Python 3 (ipykernel)",
   "language": "python",
   "name": "python3"
  },
  "language_info": {
   "codemirror_mode": {
    "name": "ipython",
    "version": 3
   },
   "file_extension": ".py",
   "mimetype": "text/x-python",
   "name": "python",
   "nbconvert_exporter": "python",
   "pygments_lexer": "ipython3",
   "version": "3.11.1"
  }
 },
 "nbformat": 4,
 "nbformat_minor": 5
}
