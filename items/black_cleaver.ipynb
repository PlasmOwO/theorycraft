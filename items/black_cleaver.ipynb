{
 "cells": [
  {
   "cell_type": "markdown",
   "id": "1c192b43-55e3-4494-bec3-1865e022c57d",
   "metadata": {},
   "source": [
    "# Web scraping stats : Black cleaver"
   ]
  },
  {
   "cell_type": "code",
   "execution_count": 1,
   "id": "74bc85b4-5c2c-4757-8614-c48e4a0478d7",
   "metadata": {},
   "outputs": [],
   "source": [
    "import pandas as pd\n",
    "import requests\n",
    "from bs4 import BeautifulSoup\n",
    "import re"
   ]
  },
  {
   "cell_type": "code",
   "execution_count": 2,
   "id": "dc64163c-9ebb-4c4d-9101-c7fc5aecbed8",
   "metadata": {},
   "outputs": [
    {
     "data": {
      "text/plain": [
       "'https://leagueoflegends.fandom.com/wiki/Black_Cleaver'"
      ]
     },
     "execution_count": 2,
     "metadata": {},
     "output_type": "execute_result"
    }
   ],
   "source": [
    "url = \"https://leagueoflegends.fandom.com/wiki/Black_Cleaver\"\n",
    "url"
   ]
  },
  {
   "cell_type": "code",
   "execution_count": 3,
   "id": "327394dc-1ab1-4877-8698-109eddeb53a8",
   "metadata": {},
   "outputs": [],
   "source": [
    "response = requests.get(url)\n",
    "html = BeautifulSoup(response.text, \"html.parser\")"
   ]
  },
  {
   "cell_type": "code",
   "execution_count": 4,
   "id": "ddd38351-56f8-4ae5-bad7-84b55c9920dd",
   "metadata": {},
   "outputs": [
    {
     "data": {
      "text/plain": [
       "[<div class=\"pi-data-value pi-font\">+50 <a href=\"/wiki/Attack_damage\" title=\"Attack damage\">attack damage</a></div>,\n",
       " <div class=\"pi-data-value pi-font\">+30 <a class=\"mw-redirect\" href=\"/wiki/Ability_haste\" title=\"Ability haste\">ability haste</a></div>,\n",
       " <div class=\"pi-data-value pi-font\">+400 <a href=\"/wiki/Health\" title=\"Health\">health</a></div>]"
      ]
     },
     "execution_count": 4,
     "metadata": {},
     "output_type": "execute_result"
    }
   ],
   "source": [
    "bc_stats = html.findAll(\"div\",{\"class\" : \"pi-data-value pi-font\"})[:3]\n",
    "bc_stats"
   ]
  },
  {
   "cell_type": "code",
   "execution_count": 5,
   "id": "ef90cc3e-ba14-4187-963b-929e7cff9553",
   "metadata": {},
   "outputs": [
    {
     "name": "stdout",
     "output_type": "stream",
     "text": [
      "[50, 30, 400]\n"
     ]
    }
   ],
   "source": [
    "for idx,stats in enumerate(bc_stats):\n",
    "    bc_stats[idx] = re.search(r'(\\d+)', stats.text).group(1)\n",
    "\n",
    "# take account of %\n",
    "bc_stats = list(map(int,bc_stats))\n",
    "print(bc_stats)"
   ]
  },
  {
   "cell_type": "code",
   "execution_count": 6,
   "id": "4bc1eceb-4d76-4feb-b066-0b45e66dd03d",
   "metadata": {},
   "outputs": [
    {
     "data": {
      "text/plain": [
       "0.3"
      ]
     },
     "execution_count": 6,
     "metadata": {},
     "output_type": "execute_result"
    }
   ],
   "source": [
    "# Armor shred\n",
    "bc_passiv = html.findAll(\"span\", {\"style\" : \"color:yellow; white-space:normal\"})\n",
    "bc_passiv = bc_passiv[1].text\n",
    "bc_passiv = re.search(r'(\\d+)', bc_passiv).group(1)\n",
    "bc_passiv = float(bc_passiv) / 100\n",
    "bc_passiv"
   ]
  },
  {
   "cell_type": "code",
   "execution_count": 7,
   "id": "ef2ce48e-e837-4c27-8cd3-7ddc7487994c",
   "metadata": {},
   "outputs": [],
   "source": [
    "%run class_item.ipynb\n",
    "import copy"
   ]
  },
  {
   "cell_type": "code",
   "execution_count": 9,
   "id": "a87f3fd5-3b0c-4a4c-81bb-901405d6828b",
   "metadata": {},
   "outputs": [],
   "source": [
    "bc_dict = {\"ad\" : bc_stats[0], \"haste\" : bc_stats[1], \"hp\" : bc_stats[2], \"passive_armor_shred\" : bc_passiv}\n",
    "Black_cleaver = Item(\"black_cleaver\", bc_dict)"
   ]
  },
  {
   "cell_type": "code",
   "execution_count": 10,
   "id": "53802f6d-dd3c-4093-a188-cda6248e618d",
   "metadata": {},
   "outputs": [
    {
     "name": "stdout",
     "output_type": "stream",
     "text": [
      "black_cleaver = {'ad': 50, 'haste': 30, 'hp': 400, 'passive_armor_shred': 0.3}\n"
     ]
    }
   ],
   "source": [
    "print(Black_cleaver)"
   ]
  }
 ],
 "metadata": {
  "kernelspec": {
   "display_name": "Python 3 (ipykernel)",
   "language": "python",
   "name": "python3"
  },
  "language_info": {
   "codemirror_mode": {
    "name": "ipython",
    "version": 3
   },
   "file_extension": ".py",
   "mimetype": "text/x-python",
   "name": "python",
   "nbconvert_exporter": "python",
   "pygments_lexer": "ipython3",
   "version": "3.11.1"
  }
 },
 "nbformat": 4,
 "nbformat_minor": 5
}
