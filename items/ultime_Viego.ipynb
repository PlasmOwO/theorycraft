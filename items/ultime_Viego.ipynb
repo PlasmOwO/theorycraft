{
 "cells": [
  {
   "cell_type": "markdown",
   "id": "6bc805c4-6c76-4448-ad2a-21edd2d14f91",
   "metadata": {},
   "source": [
    "Web Scraping Viego Ultime "
   ]
  },
  {
   "cell_type": "code",
   "execution_count": 1,
   "id": "bdce4251-1c6e-4e1f-a775-e15826e6a607",
   "metadata": {},
   "outputs": [],
   "source": [
    "import pandas as pd \n",
    "import requests \n",
    "from bs4 import BeautifulSoup \n",
    "import re "
   ]
  },
  {
   "cell_type": "code",
   "execution_count": 2,
   "id": "4e5cdf0f-1905-4e32-8f96-d95541dc9768",
   "metadata": {},
   "outputs": [
    {
     "data": {
      "text/plain": [
       "'https://leagueoflegends.fandom.com/wiki/Viego/LoL'"
      ]
     },
     "execution_count": 2,
     "metadata": {},
     "output_type": "execute_result"
    }
   ],
   "source": [
    "url = \"https://leagueoflegends.fandom.com/wiki/Viego/LoL\"\n",
    "url"
   ]
  },
  {
   "cell_type": "code",
   "execution_count": 3,
   "id": "26471ef8-e7e9-4b42-baa0-08d69e2173b3",
   "metadata": {},
   "outputs": [],
   "source": [
    "response = requests.get(url)"
   ]
  },
  {
   "cell_type": "markdown",
   "id": "9025946e-278e-4de9-a4c4-b9a8b2838f5a",
   "metadata": {},
   "source": [
    "Ultime Cooldown"
   ]
  },
  {
   "cell_type": "code",
   "execution_count": 4,
   "id": "7313cb6c-6574-49d7-abb7-efd5207d5448",
   "metadata": {},
   "outputs": [
    {
     "name": "stdout",
     "output_type": "stream",
     "text": [
      "COOLDOWN: 120 / 100 / 80\n"
     ]
    }
   ],
   "source": [
    "soup = BeautifulSoup(response.content, 'html.parser')\n",
    "uc = soup.find(\"div\", {'class': 'skill skill_r'})\n",
    "uc = uc.find('div', {'class' : 'pi-data-value pi-font'})\n",
    "print('COOLDOWN:', uc.text)\n",
    "\n",
    "for idx,stats in enumerate(uc):\n",
    "    uc[idx] = re.search(r'(\\d+)', stats.text).group(1)"
   ]
  },
  {
   "cell_type": "markdown",
   "id": "6ff97bce-363e-4f62-bd09-d769ba78f2b6",
   "metadata": {},
   "source": [
    "Ligne Rouge dans le paragraphe"
   ]
  },
  {
   "cell_type": "code",
   "execution_count": 5,
   "id": "2b34dbb1-71c7-43a6-b60d-2978b7dd61bc",
   "metadata": {},
   "outputs": [
    {
     "name": "stdout",
     "output_type": "stream",
     "text": [
      "120 x (1 + critical strike chance)\n"
     ]
    }
   ],
   "source": [
    "soup = BeautifulSoup(response.content, 'html.parser')\n",
    "lr = soup.find(\"div\", {'class' : 'skill skill_r'})\n",
    "lr = lr.find('span', {'class' : 'pp-tooltip'})['data-displayformula']\n",
    "print(lr)\n"
   ]
  },
  {
   "cell_type": "markdown",
   "id": "af47125d-e629-4ec9-83bd-082a1d3570b3",
   "metadata": {},
   "source": [
    "Physical Damage"
   ]
  },
  {
   "cell_type": "code",
   "execution_count": 6,
   "id": "8ca77268-d443-4ca6-8a04-1492aba94135",
   "metadata": {},
   "outputs": [
    {
     "name": "stdout",
     "output_type": "stream",
     "text": [
      "12 / 16 / 20% (+ 5% per 100 bonus AD) of target's missing health\n"
     ]
    }
   ],
   "source": [
    "soup = BeautifulSoup(response.content, 'html.parser')\n",
    "pdamage = soup.find(\"div\", {'class': 'skill skill_r'})\n",
    "pdamage = pdamage.find('div', {'style': 'grid-column-end: span 2; display:contents'})\n",
    "pdamage = pdamage.find('span', {'style': 'color: #1F995C; white-space:normal'})\n",
    "print(pdamage.text)"
   ]
  },
  {
   "cell_type": "code",
   "execution_count": null,
   "id": "38648b49-dcd5-4338-abf0-cba2a5d2c198",
   "metadata": {},
   "outputs": [],
   "source": []
  },
  {
   "cell_type": "code",
   "execution_count": 7,
   "id": "4bcffdc3-fba3-470a-98d4-0e4d6294601b",
   "metadata": {},
   "outputs": [
    {
     "name": "stdout",
     "output_type": "stream",
     "text": [
      "  Ultime Cooldown\n",
      "0             120\n"
     ]
    }
   ],
   "source": [
    "\n",
    "data = {'Ultime Cooldown': [uc[0]],\n",
    "    \n",
    "       }\n",
    "\n",
    "df = pd.DataFrame(data)\n",
    "\n",
    "# Afficher le DataFrame\n",
    "print(df)"
   ]
  },
  {
   "cell_type": "code",
   "execution_count": null,
   "id": "ab8169ae-648e-4d45-a573-a9b661a0ed88",
   "metadata": {},
   "outputs": [],
   "source": []
  }
 ],
 "metadata": {
  "kernelspec": {
   "display_name": "Python 3 (ipykernel)",
   "language": "python",
   "name": "python3"
  },
  "language_info": {
   "codemirror_mode": {
    "name": "ipython",
    "version": 3
   },
   "file_extension": ".py",
   "mimetype": "text/x-python",
   "name": "python",
   "nbconvert_exporter": "python",
   "pygments_lexer": "ipython3",
   "version": "3.9.6"
  }
 },
 "nbformat": 4,
 "nbformat_minor": 5
}
