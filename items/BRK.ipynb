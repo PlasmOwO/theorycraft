{
 "cells": [
  {
   "cell_type": "markdown",
   "id": "f0ba3253-fe1e-46d9-8bbc-2bd42cfa4bf8",
   "metadata": {},
   "source": [
    "# Web scraping stat BRK"
   ]
  },
  {
   "cell_type": "code",
   "execution_count": 1,
   "id": "cb8b7a6c-8b39-4b0d-8611-0b2a79abf3d5",
   "metadata": {},
   "outputs": [],
   "source": [
    "import pandas as pd\n",
    "import requests\n",
    "from bs4 import BeautifulSoup\n",
    "import re"
   ]
  },
  {
   "cell_type": "code",
   "execution_count": 2,
   "id": "d141dfeb-f794-4afd-9313-e41a46f81812",
   "metadata": {},
   "outputs": [
    {
     "data": {
      "text/plain": [
       "'https://leagueoflegends.fandom.com/wiki/Blade_of_the_Ruined_King'"
      ]
     },
     "execution_count": 2,
     "metadata": {},
     "output_type": "execute_result"
    }
   ],
   "source": [
    "url = \"https://leagueoflegends.fandom.com/wiki/Blade_of_the_Ruined_King\"\n",
    "url"
   ]
  },
  {
   "cell_type": "code",
   "execution_count": 3,
   "id": "e6a6837d-9612-4d6f-96bf-54ef0df63050",
   "metadata": {},
   "outputs": [],
   "source": [
    "response = requests.get(url)\n",
    "html = BeautifulSoup(response.text, \"html.parser\")"
   ]
  },
  {
   "cell_type": "code",
   "execution_count": 4,
   "id": "8d017fd0-7162-4936-802f-cc0404450196",
   "metadata": {},
   "outputs": [
    {
     "data": {
      "text/plain": [
       "[<div class=\"pi-data-value pi-font\">+40 <a href=\"/wiki/Attack_damage\" title=\"Attack damage\">attack damage</a></div>,\n",
       " <div class=\"pi-data-value pi-font\">+25% <a href=\"/wiki/Attack_speed\" title=\"Attack speed\">attack speed</a></div>,\n",
       " <div class=\"pi-data-value pi-font\">+8% <a href=\"/wiki/Life_steal\" title=\"Life steal\">life steal</a></div>]"
      ]
     },
     "execution_count": 4,
     "metadata": {},
     "output_type": "execute_result"
    }
   ],
   "source": [
    "brk_stat = html.findAll(\"div\",{\"class\" : \"pi-data-value pi-font\"})[:3]\n",
    "brk_stat"
   ]
  },
  {
   "cell_type": "code",
   "execution_count": 5,
   "id": "1fa22381-1000-4a51-9268-899c055e1226",
   "metadata": {},
   "outputs": [
    {
     "name": "stdout",
     "output_type": "stream",
     "text": [
      "[40, 0.25, 0.08]\n"
     ]
    }
   ],
   "source": [
    "for idx,stats in enumerate(brk_stat):\n",
    "    brk_stat[idx] = re.search(r'(\\d+)', stats.text).group(1)\n",
    "\n",
    "# take account of %\n",
    "brk_stat = list(map(int,brk_stat))\n",
    "brk_stat[1] /=100\n",
    "brk_stat[2] /=100\n",
    "print(brk_stat)\n",
    "brk_dict = {\"ad\" : brk_stat[0], \"as\" : brk_stat[1], \"lifesteal\" : brk_stat[2]}"
   ]
  },
  {
   "cell_type": "code",
   "execution_count": 6,
   "id": "93a8a536-eace-4375-b0d3-e799bf766810",
   "metadata": {},
   "outputs": [
    {
     "data": {
      "text/plain": [
       "0.12"
      ]
     },
     "execution_count": 6,
     "metadata": {},
     "output_type": "execute_result"
    }
   ],
   "source": [
    "#brk_passives = html.findAll(\"div\",{\"class\" : \"pi-data-value pi-font\"})[3:5]\n",
    "brk_passive  = html.find(\"span\",{\"style\": \"white-space:pre; position:relative;\", \"data-game\"  : \"lol\"})\n",
    "brk_passive = brk_passive.text\n",
    "brk_passive = re.search(r'(\\d+)', brk_passive).group(1)\n",
    "brk_passive = float(brk_passive) / 100\n",
    "brk_passive"
   ]
  },
  {
   "cell_type": "code",
   "execution_count": 7,
   "id": "2a7d2884-7264-4f94-ac5f-335b58d6111e",
   "metadata": {},
   "outputs": [
    {
     "data": {
      "text/plain": [
       "0.09"
      ]
     },
     "execution_count": 7,
     "metadata": {},
     "output_type": "execute_result"
    }
   ],
   "source": [
    "brk_passive_range  = html.find(\"span\",{\"style\": \"white-space:pre; position:relative;\", \"data-game\"  : \"lol\" , \"data-tip\" : \"Ranged\"})\n",
    "brk_passive_range = brk_passive_range.text\n",
    "brk_passive_range = re.search(r'(\\d+)', brk_passive_range).group(1)\n",
    "brk_passive_range = float(brk_passive_range) / 100\n",
    "brk_passive_range"
   ]
  },
  {
   "cell_type": "markdown",
   "id": "c15d2606-5ecd-4238-b632-2898547afd5f",
   "metadata": {},
   "source": [
    "Check les infos en jquery pour les 3 autos"
   ]
  },
  {
   "cell_type": "code",
   "execution_count": 8,
   "id": "5aabeccf-7eb9-4f48-9319-6759b5291c74",
   "metadata": {},
   "outputs": [],
   "source": [
    "%run class_item.ipynb\n",
    "import copy"
   ]
  },
  {
   "cell_type": "code",
   "execution_count": 9,
   "id": "5890ac98-f221-472c-b436-297d08dd96bc",
   "metadata": {},
   "outputs": [
    {
     "name": "stdout",
     "output_type": "stream",
     "text": [
      "0.12\n",
      "0.09\n"
     ]
    }
   ],
   "source": [
    "print(brk_passive)\n",
    "print(brk_passive_range)"
   ]
  },
  {
   "cell_type": "code",
   "execution_count": 10,
   "id": "dbea16d1-1315-4e80-8228-54f15696a424",
   "metadata": {},
   "outputs": [],
   "source": [
    "brk_dict['passive'] = brk_passive\n",
    "brk_dict_range = copy.deepcopy(brk_dict)\n",
    "brk_dict_range['passive'] = brk_passive_range"
   ]
  },
  {
   "cell_type": "code",
   "execution_count": 11,
   "id": "4bc44fe1-ea99-466b-b3e0-9f4f1398c16f",
   "metadata": {},
   "outputs": [],
   "source": [
    "BRK_melee = Item(\"brk\", brk_dict)\n",
    "BRK_range = Item(\"brk\", brk_dict_range)"
   ]
  },
  {
   "cell_type": "code",
   "execution_count": 12,
   "id": "8e672b8c-2aaf-4a1a-a3bd-278a07ef86f2",
   "metadata": {},
   "outputs": [
    {
     "name": "stdout",
     "output_type": "stream",
     "text": [
      "brk = {'ad': 40, 'as': 0.25, 'lifesteal': 0.08, 'passive': 0.12}\n",
      "brk = {'ad': 40, 'as': 0.25, 'lifesteal': 0.08, 'passive': 0.09}\n"
     ]
    }
   ],
   "source": [
    "print(BRK_melee)\n",
    "print(BRK_range)"
   ]
  }
 ],
 "metadata": {
  "kernelspec": {
   "display_name": "Python 3 (ipykernel)",
   "language": "python",
   "name": "python3"
  },
  "language_info": {
   "codemirror_mode": {
    "name": "ipython",
    "version": 3
   },
   "file_extension": ".py",
   "mimetype": "text/x-python",
   "name": "python",
   "nbconvert_exporter": "python",
   "pygments_lexer": "ipython3",
   "version": "3.11.1"
  }
 },
 "nbformat": 4,
 "nbformat_minor": 5
}
