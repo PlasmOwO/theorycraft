{
 "cells": [
  {
   "cell_type": "code",
   "execution_count": 1,
   "id": "e00441ca",
   "metadata": {},
   "outputs": [],
   "source": [
    "\n",
    "# # Web scraping stat BRK"
   ]
  },
  {
   "cell_type": "code",
   "execution_count": 2,
   "id": "cb8b7a6c-8b39-4b0d-8611-0b2a79abf3d5",
   "metadata": {
    "lines_to_next_cell": 2
   },
   "outputs": [],
   "source": [
    "\n",
    "\n",
    "import pandas as pd\n",
    "import requests\n",
    "from bs4 import BeautifulSoup\n",
    "import re"
   ]
  },
  {
   "cell_type": "code",
   "execution_count": 3,
   "id": "d141dfeb-f794-4afd-9313-e41a46f81812",
   "metadata": {
    "lines_to_next_cell": 2
   },
   "outputs": [
    {
     "data": {
      "text/plain": [
       "'https://leagueoflegends.fandom.com/wiki/Blade_of_the_Ruined_King'"
      ]
     },
     "execution_count": 3,
     "metadata": {},
     "output_type": "execute_result"
    }
   ],
   "source": [
    "\n",
    "\n",
    "url = \"https://leagueoflegends.fandom.com/wiki/Blade_of_the_Ruined_King\"\n",
    "url"
   ]
  },
  {
   "cell_type": "code",
   "execution_count": 4,
   "id": "e6a6837d-9612-4d6f-96bf-54ef0df63050",
   "metadata": {},
   "outputs": [],
   "source": [
    "\n",
    "\n",
    "response = requests.get(url)\n",
    "html = BeautifulSoup(response.text, \"html.parser\")\n",
    "\n",
    "\n",
    "# ## Bases stats"
   ]
  },
  {
   "cell_type": "code",
   "execution_count": 5,
   "id": "8d017fd0-7162-4936-802f-cc0404450196",
   "metadata": {
    "lines_to_next_cell": 2
   },
   "outputs": [
    {
     "data": {
      "text/plain": [
       "[<div class=\"pi-data-value pi-font\">+40 <a href=\"/wiki/Attack_damage\" title=\"Attack damage\">attack damage</a></div>,\n",
       " <div class=\"pi-data-value pi-font\">+25% <a href=\"/wiki/Attack_speed\" title=\"Attack speed\">attack speed</a></div>,\n",
       " <div class=\"pi-data-value pi-font\">+8% <a href=\"/wiki/Life_steal\" title=\"Life steal\">life steal</a></div>]"
      ]
     },
     "execution_count": 5,
     "metadata": {},
     "output_type": "execute_result"
    }
   ],
   "source": [
    "\n",
    "\n",
    "brk_stat = html.findAll(\"div\",{\"class\" : \"pi-data-value pi-font\"})[:3]\n",
    "brk_stat"
   ]
  },
  {
   "cell_type": "code",
   "execution_count": 6,
   "id": "1fa22381-1000-4a51-9268-899c055e1226",
   "metadata": {},
   "outputs": [
    {
     "name": "stdout",
     "output_type": "stream",
     "text": [
      "[40, 0.25, 0.08]\n"
     ]
    }
   ],
   "source": [
    "\n",
    "\n",
    "for idx,stats in enumerate(brk_stat):\n",
    "    brk_stat[idx] = re.search(r'(\\d+)', stats.text).group(1)\n",
    "\n",
    "# take account of %\n",
    "brk_stat = list(map(int,brk_stat))\n",
    "brk_stat[1] /=100\n",
    "brk_stat[2] /=100\n",
    "brk_stat\n",
    "\n",
    "\n",
    "# ## HP % Passive"
   ]
  },
  {
   "cell_type": "code",
   "execution_count": 7,
   "id": "93a8a536-eace-4375-b0d3-e799bf766810",
   "metadata": {
    "lines_to_next_cell": 2
   },
   "outputs": [
    {
     "data": {
      "text/plain": [
       "0.12"
      ]
     },
     "execution_count": 7,
     "metadata": {},
     "output_type": "execute_result"
    }
   ],
   "source": [
    "\n",
    "\n",
    "#brk_passives = html.findAll(\"div\",{\"class\" : \"pi-data-value pi-font\"})[3:5]\n",
    "brk_passive  = html.find(\"span\",{\"style\": \"white-space:pre; position:relative;\", \"data-game\"  : \"lol\"})\n",
    "brk_passive = brk_passive.text\n",
    "brk_passive = re.search(r'(\\d+)', brk_passive).group(1)\n",
    "brk_passive = float(brk_passive) / 100\n",
    "brk_passive"
   ]
  },
  {
   "cell_type": "code",
   "execution_count": 8,
   "id": "2a7d2884-7264-4f94-ac5f-335b58d6111e",
   "metadata": {},
   "outputs": [
    {
     "data": {
      "text/plain": [
       "0.09"
      ]
     },
     "execution_count": 8,
     "metadata": {},
     "output_type": "execute_result"
    }
   ],
   "source": [
    "\n",
    "\n",
    "brk_passive_range  = html.find(\"span\",{\"style\": \"white-space:pre; position:relative;\", \"data-game\"  : \"lol\" , \"data-tip\" : \"Ranged\"})\n",
    "brk_passive_range = brk_passive_range.text\n",
    "brk_passive_range = re.search(r'(\\d+)', brk_passive_range).group(1)\n",
    "brk_passive_range = float(brk_passive_range) / 100\n",
    "brk_passive_range\n",
    "\n",
    "\n",
    "# ## Slow passive"
   ]
  },
  {
   "cell_type": "code",
   "execution_count": 9,
   "id": "83842693-021e-4011-a5cf-329ab9c72a4c",
   "metadata": {
    "lines_to_next_cell": 2
   },
   "outputs": [
    {
     "name": "stdout",
     "output_type": "stream",
     "text": [
      "40;47;54;61;68;75;82;89;96;103\n",
      "1;10;11;12;13;14;15;16;17;18\n"
     ]
    }
   ],
   "source": [
    "\n",
    "\n",
    "brk_3autos = html.find(\"span\",{\"style\" : \"position:relative; border-bottom:1px dotted; cursor:help;\"})\n"
   ]
  },
  {
   "cell_type": "code",
   "execution_count": 10,
   "id": "2e462d39-3bd6-40ba-9ab3-56fc5a205a07",
   "metadata": {},
   "outputs": [
    {
     "name": "stdout",
     "output_type": "stream",
     "text": [
      "['1', '10', '11', '12', '13', '14', '15', '16', '17', '18']\n",
      "['40', '47', '54', '61', '68', '75', '82', '89', '96', '103']\n",
      "{'1': '40', '10': '47', '11': '54', '12': '61', '13': '68', '14': '75', '15': '82', '16': '89', '17': '96', '18': '103'}\n"
     ]
    }
   ],
   "source": [
    "\n",
    "\n",
    "three_autos_lvl = brk_3autos['data-top_values'].split(\";\")\n",
    "\n",
    "three_autos_dmg = brk_3autos['data-bot_values'].split(\";\")\n",
    "\n",
    "\n",
    "three_autos_dict = {key: value for key, value in zip(three_autos_lvl, three_autos_dmg)}\n",
    "three_autos_dict\n",
    "\n",
    "\n",
    "# ## Item creation"
   ]
  },
  {
   "cell_type": "code",
   "execution_count": 11,
   "id": "10acd711",
   "metadata": {
    "lines_to_next_cell": 2
   },
   "outputs": [],
   "source": [
    "\n",
    "if __name__ == \"__main__\":\n",
    "    import sys\n",
    "    sys.path.append(\"..\")\n",
    "    from class_item import Item\n",
    "else :\n",
    "    from class_item import Item\n",
    "import copy"
   ]
  },
  {
   "cell_type": "code",
   "execution_count": 12,
   "id": "dbea16d1-1315-4e80-8228-54f15696a424",
   "metadata": {
    "lines_to_next_cell": 2
   },
   "outputs": [],
   "source": [
    "\n",
    "\n",
    "brk_dict = {\"ad\" : brk_stat[0], \"as\" : brk_stat[1], \"lifesteal\" : brk_stat[2]}\n",
    "brk_dict['passive'] = brk_passive\n",
    "#brk_dict['three_autos'] = three_autos_dict\n",
    "brk_dict_range = copy.deepcopy(brk_dict)\n",
    "brk_dict_range['passive'] = brk_passive_range"
   ]
  },
  {
   "cell_type": "code",
   "execution_count": 13,
   "id": "4bc44fe1-ea99-466b-b3e0-9f4f1398c16f",
   "metadata": {
    "lines_to_next_cell": 2
   },
   "outputs": [],
   "source": [
    "\n",
    "\n",
    "BRK_melee = Item(\"brk\", brk_dict)\n",
    "BRK_range = Item(\"brk\", brk_dict_range)"
   ]
  },
  {
   "cell_type": "code",
   "execution_count": 15,
   "id": "7d062fef",
   "metadata": {},
   "outputs": [],
   "source": [
    "def createBRK(melee : bool = True):\n",
    "    if melee:\n",
    "        return Item(\"brk\", brk_dict)\n",
    "    else:\n",
    "        return Item(\"brk\", brk_dict_range)"
   ]
  },
  {
   "cell_type": "code",
   "execution_count": null,
   "id": "531cc80a",
   "metadata": {},
   "outputs": [],
   "source": []
  }
 ],
 "metadata": {
  "jupytext": {
   "formats": "ipynb,py:percent"
  },
  "kernelspec": {
   "display_name": "Python 3 (ipykernel)",
   "language": "python",
   "name": "python3"
  },
  "language_info": {
   "codemirror_mode": {
    "name": "ipython",
    "version": 3
   },
   "file_extension": ".py",
   "mimetype": "text/x-python",
   "name": "python",
   "nbconvert_exporter": "python",
   "pygments_lexer": "ipython3",
   "version": "3.11.1"
  }
 },
 "nbformat": 4,
 "nbformat_minor": 5
}
