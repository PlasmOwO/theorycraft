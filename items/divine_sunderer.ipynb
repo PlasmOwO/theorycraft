{
 "cells": [
  {
   "cell_type": "markdown",
   "id": "a255d352-57bd-49ad-a3b3-4e63c5f61140",
   "metadata": {},
   "source": [
    "# Web scraping stat Divine"
   ]
  },
  {
   "cell_type": "code",
   "execution_count": 1,
   "id": "d42f7af8-b9ab-44ec-a6d3-d5b051598e6e",
   "metadata": {},
   "outputs": [],
   "source": [
    "import pandas as pd\n",
    "import requests\n",
    "from bs4 import BeautifulSoup\n",
    "import re"
   ]
  },
  {
   "cell_type": "code",
   "execution_count": 2,
   "id": "3820cf5d-14ed-40bc-9768-ee84177c3a70",
   "metadata": {},
   "outputs": [
    {
     "data": {
      "text/plain": [
       "'https://leagueoflegends.fandom.com/wiki/Divine_Sunderer'"
      ]
     },
     "execution_count": 2,
     "metadata": {},
     "output_type": "execute_result"
    }
   ],
   "source": [
    "url = \"https://leagueoflegends.fandom.com/wiki/Divine_Sunderer\"\n",
    "url"
   ]
  },
  {
   "cell_type": "code",
   "execution_count": 4,
   "id": "db43418f-37da-4309-8516-39c1ae323871",
   "metadata": {},
   "outputs": [],
   "source": [
    "response = requests.get(url)\n",
    "html = BeautifulSoup(response.text, \"html.parser\")"
   ]
  },
  {
   "cell_type": "code",
   "execution_count": 5,
   "id": "477a6857-044e-4442-8e0b-0a115ea19a57",
   "metadata": {},
   "outputs": [
    {
     "data": {
      "text/plain": [
       "[<div class=\"pi-data-value pi-font\">+40 <a href=\"/wiki/Attack_damage\" title=\"Attack damage\">attack damage</a></div>,\n",
       " <div class=\"pi-data-value pi-font\">+20 <a class=\"mw-redirect\" href=\"/wiki/Ability_haste\" title=\"Ability haste\">ability haste</a></div>,\n",
       " <div class=\"pi-data-value pi-font\">+300 <a href=\"/wiki/Health\" title=\"Health\">health</a></div>]"
      ]
     },
     "execution_count": 5,
     "metadata": {},
     "output_type": "execute_result"
    }
   ],
   "source": [
    "divine_stat = html.findAll(\"div\",{\"class\" : \"pi-data-value pi-font\"})[:3]\n",
    "divine_stat"
   ]
  },
  {
   "cell_type": "code",
   "execution_count": 7,
   "id": "8fc05311-85d4-41a1-a4c0-e8a285d9b0ff",
   "metadata": {},
   "outputs": [
    {
     "name": "stdout",
     "output_type": "stream",
     "text": [
      "[40, 20, 300]\n"
     ]
    }
   ],
   "source": [
    "for idx,stats in enumerate(divine_stat):\n",
    "    divine_stat[idx] = re.search(r'(\\d+)', stats.text).group(1)\n",
    "\n",
    "# Prendre en compte le pourcentage\n",
    "divine_stat = list(map(int,divine_stat))\n",
    "print(divine_stat)"
   ]
  },
  {
   "cell_type": "code",
   "execution_count": 9,
   "id": "2fdd411c-75e3-4154-b597-706a63933b1a",
   "metadata": {},
   "outputs": [],
   "source": [
    "divine_passive = html.find(\"span\",{\"style\" : \"color:orange; white-space:normal\"})"
   ]
  },
  {
   "cell_type": "code",
   "execution_count": 10,
   "id": "11721eb1-bbe5-4604-88b2-24a89603344d",
   "metadata": {},
   "outputs": [
    {
     "data": {
      "text/plain": [
       "'160% base AD'"
      ]
     },
     "execution_count": 10,
     "metadata": {},
     "output_type": "execute_result"
    }
   ],
   "source": [
    "divine_passive.text"
   ]
  },
  {
   "cell_type": "code",
   "execution_count": 15,
   "id": "ddd8c5ce-dfd0-417b-8c17-a4341742807d",
   "metadata": {},
   "outputs": [],
   "source": [
    "divine_passive_cent_melee = html.find(\"span\",{\"style\" : \"white-space:pre; position:relative;\", \"data-tip\" : \"Melee\"})"
   ]
  },
  {
   "cell_type": "code",
   "execution_count": 16,
   "id": "c9511285-99dc-45c9-a84f-d2669f4da429",
   "metadata": {},
   "outputs": [
    {
     "data": {
      "text/plain": [
       "' 4%'"
      ]
     },
     "execution_count": 16,
     "metadata": {},
     "output_type": "execute_result"
    }
   ],
   "source": [
    "divine_passive_cent_melee.text"
   ]
  },
  {
   "cell_type": "code",
   "execution_count": 17,
   "id": "f9038f7d-223d-4493-a410-6ceed5c77576",
   "metadata": {},
   "outputs": [],
   "source": [
    "divine_passive_cent_ranged = html.find(\"span\",{\"style\" : \"white-space:pre; position:relative;\", \"data-tip\" : \"Ranged\"})"
   ]
  },
  {
   "cell_type": "code",
   "execution_count": 19,
   "id": "1202522c-a063-4391-bc47-1bf7eb1d930b",
   "metadata": {},
   "outputs": [
    {
     "data": {
      "text/plain": [
       "' 2%'"
      ]
     },
     "execution_count": 19,
     "metadata": {},
     "output_type": "execute_result"
    }
   ],
   "source": [
    "divine_passive_cent_ranged.text"
   ]
  },
  {
   "cell_type": "code",
   "execution_count": null,
   "id": "e09a9e4c-07f0-4f30-a114-d9e50bc0a77d",
   "metadata": {},
   "outputs": [],
   "source": [
    "#Pour le heal je ne sais pas trop comment faire"
   ]
  }
 ],
 "metadata": {
  "kernelspec": {
   "display_name": "Python 3 (ipykernel)",
   "language": "python",
   "name": "python3"
  },
  "language_info": {
   "codemirror_mode": {
    "name": "ipython",
    "version": 3
   },
   "file_extension": ".py",
   "mimetype": "text/x-python",
   "name": "python",
   "nbconvert_exporter": "python",
   "pygments_lexer": "ipython3",
   "version": "3.11.1"
  }
 },
 "nbformat": 4,
 "nbformat_minor": 5
}
