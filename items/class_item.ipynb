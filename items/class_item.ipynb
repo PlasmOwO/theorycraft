{
 "cells": [
  {
   "cell_type": "markdown",
   "id": "8c4ba0f3-c23b-4ce3-a869-bfd92748d925",
   "metadata": {},
   "source": [
    "# Class of the items"
   ]
  },
  {
   "cell_type": "code",
   "execution_count": 4,
   "id": "b6bac449-52e4-46d9-886b-52956ec58948",
   "metadata": {},
   "outputs": [],
   "source": [
    "class Item:\n",
    "    def __init__(self, name : str, stats : dict):\n",
    "        \"\"\"\n",
    "            Create an item object\n",
    "\n",
    "            Params :\n",
    "                name (str): Name of the object\n",
    "                stats (dict) : Statistics of the object. Use the same keys for all your items.\n",
    "\n",
    "        \"\"\"\n",
    "        self.name = name\n",
    "        self.stats = stats\n",
    "\n",
    "    def __str__(self):\n",
    "        return self.name + \" = \"  + str(self.stats)\n",
    "        \n"
   ]
  }
 ],
 "metadata": {
  "kernelspec": {
   "display_name": "Python 3 (ipykernel)",
   "language": "python",
   "name": "python3"
  },
  "language_info": {
   "codemirror_mode": {
    "name": "ipython",
    "version": 3
   },
   "file_extension": ".py",
   "mimetype": "text/x-python",
   "name": "python",
   "nbconvert_exporter": "python",
   "pygments_lexer": "ipython3",
   "version": "3.11.1"
  }
 },
 "nbformat": 4,
 "nbformat_minor": 5
}
