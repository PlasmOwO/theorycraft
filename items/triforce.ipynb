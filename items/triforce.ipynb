{
 "cells": [
  {
   "cell_type": "markdown",
   "id": "eb3f92e4-f0b5-49f0-9e89-9d4bfe3424df",
   "metadata": {},
   "source": [
    "# Web scraping stat Trinity Force"
   ]
  },
  {
   "cell_type": "code",
   "execution_count": 3,
   "id": "2d4cbdd6-ade8-4b5d-9356-7c2dde4fa999",
   "metadata": {},
   "outputs": [],
   "source": [
    "import pandas as pd\n",
    "import requests\n",
    "from bs4 import BeautifulSoup\n",
    "import re"
   ]
  },
  {
   "cell_type": "code",
   "execution_count": 4,
   "id": "f734a294-78b0-4559-b03e-f4bf011f20d0",
   "metadata": {},
   "outputs": [
    {
     "data": {
      "text/plain": [
       "'https://leagueoflegends.fandom.com/wiki/Trinity_Force'"
      ]
     },
     "execution_count": 4,
     "metadata": {},
     "output_type": "execute_result"
    }
   ],
   "source": [
    "url = \"https://leagueoflegends.fandom.com/wiki/Trinity_Force\"\n",
    "url"
   ]
  },
  {
   "cell_type": "code",
   "execution_count": 5,
   "id": "b52d980b-3c33-48dc-b4c9-b3b66234769f",
   "metadata": {},
   "outputs": [],
   "source": [
    "response = requests.get(url)\n",
    "html = BeautifulSoup(response.text, \"html.parser\")"
   ]
  },
  {
   "cell_type": "markdown",
   "id": "b30d6d93-86c6-46b6-8071-bc1f6ccfb15e",
   "metadata": {},
   "source": [
    "## Bases stats"
   ]
  },
  {
   "cell_type": "code",
   "execution_count": 13,
   "id": "ac174368-3f21-4566-9ca5-4b51a4ae1cf9",
   "metadata": {},
   "outputs": [
    {
     "name": "stdout",
     "output_type": "stream",
     "text": [
      "[<div class=\"pi-data-value pi-font\">+40 <a href=\"/wiki/Attack_damage\" title=\"Attack damage\">attack damage</a></div>, <div class=\"pi-data-value pi-font\">+20 <a class=\"mw-redirect\" href=\"/wiki/Ability_haste\" title=\"Ability haste\">ability haste</a></div>, <div class=\"pi-data-value pi-font\">+33% <a href=\"/wiki/Attack_speed\" title=\"Attack speed\">attack speed</a></div>, <div class=\"pi-data-value pi-font\">+300 <a href=\"/wiki/Health\" title=\"Health\">health</a></div>]\n",
      "[40, 20, 0.33, 300]\n"
     ]
    }
   ],
   "source": [
    "triforce_stat = html.findAll(\"div\",{\"class\" : \"pi-data-value pi-font\"})[:4]\n",
    "print(triforce_stat)\n",
    "\n",
    "for idx,stats in enumerate(triforce_stat):\n",
    "    triforce_stat[idx] = re.search(r'(\\d+)', stats.text).group(1)\n",
    "\n",
    "# take account of %\n",
    "triforce_stat = list(map(int,triforce_stat))\n",
    "\n",
    "triforce_stat[2] /=100\n",
    "print(triforce_stat)"
   ]
  },
  {
   "cell_type": "markdown",
   "id": "2eda3a72-f209-4d98-89a5-b4d159ae80b0",
   "metadata": {},
   "source": [
    "## Passive dmg increase"
   ]
  },
  {
   "cell_type": "code",
   "execution_count": 22,
   "id": "c65f339c-2168-4b77-a751-a9bb885ec9da",
   "metadata": {},
   "outputs": [
    {
     "name": "stdout",
     "output_type": "stream",
     "text": [
      "0.06\n"
     ]
    }
   ],
   "source": [
    "one_stack = html.find(\"span\", {\"style\" : \"color:orange; white-space:normal\"})\n",
    "one_stack = float(re.search(r'(\\d+)', one_stack.text).group(1)) / 100\n",
    "print(one_stack)"
   ]
  },
  {
   "cell_type": "code",
   "execution_count": 27,
   "id": "0ca21074-046e-44c5-a1d0-d318076479e5",
   "metadata": {},
   "outputs": [
    {
     "name": "stdout",
     "output_type": "stream",
     "text": [
      "0.18\n"
     ]
    }
   ],
   "source": [
    "all_stacks = html.findAll(\"span\", {\"style\" : \"color:orange; white-space:normal\"})[1]\n",
    "all_stacks = float(re.search(r'(\\d+)', all_stacks.text).group(1)) / 100\n",
    "print(all_stacks)"
   ]
  },
  {
   "cell_type": "markdown",
   "id": "36a9cf13-5736-4fbf-8323-889058a5a9cc",
   "metadata": {},
   "source": [
    "## Spellblade"
   ]
  },
  {
   "cell_type": "code",
   "execution_count": 32,
   "id": "7669ef1d-b777-4aca-aad2-6d4fa482681b",
   "metadata": {},
   "outputs": [
    {
     "name": "stdout",
     "output_type": "stream",
     "text": [
      "2.0\n"
     ]
    }
   ],
   "source": [
    "spellblade = html.findAll(\"span\", {\"style\" : \"color:orange; white-space:normal\"})[2]\n",
    "spellblade = float(re.search(r'(\\d+)', spellblade.text).group(1)) /100\n",
    "print(spellblade)"
   ]
  },
  {
   "cell_type": "markdown",
   "id": "e7aa4168-54da-4b21-a83a-edd623b4a4c0",
   "metadata": {},
   "source": [
    "## Item Creation"
   ]
  },
  {
   "cell_type": "code",
   "execution_count": 34,
   "id": "e30bbf49-908b-4188-9fde-5635a2a4639b",
   "metadata": {},
   "outputs": [],
   "source": [
    "%run class_item.ipynb"
   ]
  },
  {
   "cell_type": "code",
   "execution_count": 36,
   "id": "be65b05b-70ec-4384-9857-0b79fe92261a",
   "metadata": {},
   "outputs": [
    {
     "name": "stdout",
     "output_type": "stream",
     "text": [
      "triforce = {'ad': 40, 'haste': 20, 'as': 0.33, 'hp': 300, 'passive_onestack': 0.06, 'passive_allstacks': 0.18, 'spellblade': 2.0}\n"
     ]
    }
   ],
   "source": [
    "triforce_dict = {\"ad\" : triforce_stat[0], \"haste\" : triforce_stat[1],\"as\" : triforce_stat[2], \"hp\" : triforce_stat[3]}\n",
    "triforce_dict['passive_onestack'] = one_stack\n",
    "triforce_dict['passive_allstacks'] = all_stacks\n",
    "triforce_dict['spellblade'] = spellblade\n",
    "\n",
    "Triforce = Item('triforce', triforce_dict)\n",
    "print(Triforce)"
   ]
  }
 ],
 "metadata": {
  "kernelspec": {
   "display_name": "Python 3 (ipykernel)",
   "language": "python",
   "name": "python3"
  },
  "language_info": {
   "codemirror_mode": {
    "name": "ipython",
    "version": 3
   },
   "file_extension": ".py",
   "mimetype": "text/x-python",
   "name": "python",
   "nbconvert_exporter": "python",
   "pygments_lexer": "ipython3",
   "version": "3.11.1"
  }
 },
 "nbformat": 4,
 "nbformat_minor": 5
}
