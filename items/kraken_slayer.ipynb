{
 "cells": [
  {
   "cell_type": "markdown",
   "id": "8fdcdc2f-999d-4725-bf12-69d06cbad915",
   "metadata": {},
   "source": [
    "# Web scraping stats Kraken slayer"
   ]
  },
  {
   "cell_type": "code",
   "execution_count": 5,
   "id": "bce641cd-d9b1-4e70-8392-8d006ad90a54",
   "metadata": {},
   "outputs": [],
   "source": [
    "import pandas as pd\n",
    "import requests\n",
    "from bs4 import BeautifulSoup\n",
    "import re"
   ]
  },
  {
   "cell_type": "code",
   "execution_count": 6,
   "id": "54a0c30a-1566-4818-bfeb-9a6fdea331b8",
   "metadata": {},
   "outputs": [
    {
     "data": {
      "text/plain": [
       "'https://leagueoflegends.fandom.com/wiki/Kraken_Slayer'"
      ]
     },
     "execution_count": 6,
     "metadata": {},
     "output_type": "execute_result"
    }
   ],
   "source": [
    "url = \"https://leagueoflegends.fandom.com/wiki/Kraken_Slayer\"\n",
    "url"
   ]
  },
  {
   "cell_type": "code",
   "execution_count": 7,
   "id": "66a7385e-b9d0-435b-9234-b404d2048797",
   "metadata": {},
   "outputs": [],
   "source": [
    "response = requests.get(url)\n",
    "html = BeautifulSoup(response.text, \"html.parser\")"
   ]
  },
  {
   "cell_type": "code",
   "execution_count": 8,
   "id": "10979351-336b-47b0-9e9e-dc2afcfe643d",
   "metadata": {},
   "outputs": [
    {
     "data": {
      "text/plain": [
       "[<div class=\"pi-data-value pi-font\">+40 <a href=\"/wiki/Attack_damage\" title=\"Attack damage\">attack damage</a></div>,\n",
       " <div class=\"pi-data-value pi-font\">+30% <a href=\"/wiki/Attack_speed\" title=\"Attack speed\">attack speed</a></div>,\n",
       " <div class=\"pi-data-value pi-font\">+20% <a href=\"/wiki/Critical_strike\" title=\"Critical strike\">critical strike chance</a></div>]"
      ]
     },
     "execution_count": 8,
     "metadata": {},
     "output_type": "execute_result"
    }
   ],
   "source": [
    "kraken_stats = html.findAll(\"div\",{\"class\" : \"pi-data-value pi-font\"})[:3]\n",
    "kraken_stats"
   ]
  },
  {
   "cell_type": "code",
   "execution_count": 9,
   "id": "d8650965-1dfd-4d72-9787-191f4ee190a7",
   "metadata": {},
   "outputs": [
    {
     "name": "stdout",
     "output_type": "stream",
     "text": [
      "[40, 0.3, 0.2]\n"
     ]
    }
   ],
   "source": [
    "for idx,stats in enumerate(kraken_stats):\n",
    "    kraken_stats[idx] = re.search(r'(\\d+)', stats.text).group(1)\n",
    "\n",
    "# Prendre en compte le pourcentage\n",
    "kraken_stats = list(map(int,kraken_stats))\n",
    "kraken_stats[1] /=100\n",
    "kraken_stats[2] /=100\n",
    "print(kraken_stats)"
   ]
  },
  {
   "cell_type": "code",
   "execution_count": null,
   "id": "f4ce4546-c48f-4d23-93be-e8670bf37f9e",
   "metadata": {},
   "outputs": [],
   "source": [
    "# Jquery pour dmg 3 autos"
   ]
  }
 ],
 "metadata": {
  "kernelspec": {
   "display_name": "Python 3 (ipykernel)",
   "language": "python",
   "name": "python3"
  },
  "language_info": {
   "codemirror_mode": {
    "name": "ipython",
    "version": 3
   },
   "file_extension": ".py",
   "mimetype": "text/x-python",
   "name": "python",
   "nbconvert_exporter": "python",
   "pygments_lexer": "ipython3",
   "version": "3.11.1"
  }
 },
 "nbformat": 4,
 "nbformat_minor": 5
}
