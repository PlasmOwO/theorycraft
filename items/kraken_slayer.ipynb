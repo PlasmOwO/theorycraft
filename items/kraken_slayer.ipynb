{
 "cells": [
  {
   "cell_type": "markdown",
   "id": "8fdcdc2f-999d-4725-bf12-69d06cbad915",
   "metadata": {},
   "source": [
    "# Web scraping stats Kraken slayer"
   ]
  },
  {
   "cell_type": "code",
   "execution_count": 1,
   "id": "bce641cd-d9b1-4e70-8392-8d006ad90a54",
   "metadata": {},
   "outputs": [],
   "source": [
    "import pandas as pd\n",
    "import requests\n",
    "from bs4 import BeautifulSoup\n",
    "import re"
   ]
  },
  {
   "cell_type": "code",
   "execution_count": 2,
   "id": "54a0c30a-1566-4818-bfeb-9a6fdea331b8",
   "metadata": {},
   "outputs": [
    {
     "data": {
      "text/plain": [
       "'https://leagueoflegends.fandom.com/wiki/Kraken_Slayer'"
      ]
     },
     "execution_count": 2,
     "metadata": {},
     "output_type": "execute_result"
    }
   ],
   "source": [
    "url = \"https://leagueoflegends.fandom.com/wiki/Kraken_Slayer\"\n",
    "url"
   ]
  },
  {
   "cell_type": "code",
   "execution_count": 3,
   "id": "66a7385e-b9d0-435b-9234-b404d2048797",
   "metadata": {},
   "outputs": [],
   "source": [
    "response = requests.get(url)\n",
    "html = BeautifulSoup(response.text, \"html.parser\")"
   ]
  },
  {
   "cell_type": "markdown",
   "id": "8a7ed303-3ffb-4b07-931c-19e7276d8249",
   "metadata": {},
   "source": [
    "## Bases stats"
   ]
  },
  {
   "cell_type": "code",
   "execution_count": 4,
   "id": "10979351-336b-47b0-9e9e-dc2afcfe643d",
   "metadata": {},
   "outputs": [
    {
     "data": {
      "text/plain": [
       "[<div class=\"pi-data-value pi-font\">+40 <a href=\"/wiki/Attack_damage\" title=\"Attack damage\">attack damage</a></div>,\n",
       " <div class=\"pi-data-value pi-font\">+30% <a href=\"/wiki/Attack_speed\" title=\"Attack speed\">attack speed</a></div>,\n",
       " <div class=\"pi-data-value pi-font\">+20% <a href=\"/wiki/Critical_strike\" title=\"Critical strike\">critical strike chance</a></div>]"
      ]
     },
     "execution_count": 4,
     "metadata": {},
     "output_type": "execute_result"
    }
   ],
   "source": [
    "kraken_stats = html.findAll(\"div\",{\"class\" : \"pi-data-value pi-font\"})[:3]\n",
    "kraken_stats"
   ]
  },
  {
   "cell_type": "code",
   "execution_count": 5,
   "id": "d8650965-1dfd-4d72-9787-191f4ee190a7",
   "metadata": {},
   "outputs": [
    {
     "name": "stdout",
     "output_type": "stream",
     "text": [
      "[40, 0.3, 0.2]\n"
     ]
    }
   ],
   "source": [
    "for idx,stats in enumerate(kraken_stats):\n",
    "    kraken_stats[idx] = re.search(r'(\\d+)', stats.text).group(1)\n",
    "\n",
    "# take account of %\n",
    "kraken_stats = list(map(int,kraken_stats))\n",
    "kraken_stats[1] /=100\n",
    "kraken_stats[2] /=100\n",
    "print(kraken_stats)"
   ]
  },
  {
   "cell_type": "markdown",
   "id": "553992bb-3088-4d58-beb2-0360a83cfed5",
   "metadata": {},
   "source": [
    "## On-hit proc  \n",
    "*Be careful of 50% multiplicator (up to 100%) on the same target*  \n",
    "<span style=\"color:blue\"> TODO</span>"
   ]
  },
  {
   "cell_type": "code",
   "execution_count": 8,
   "id": "c7ac5602-a157-4318-93d9-d8f749b3c46e",
   "metadata": {},
   "outputs": [
    {
     "name": "stdout",
     "output_type": "stream",
     "text": [
      "1;9;10;11;12;13;14;15;16;17;18\n",
      "35;40;45;50;55;60;65;70;75;80;85\n"
     ]
    }
   ],
   "source": [
    "bring_it_down = html.find(\"span\", {\"style\" : \"position:relative; border-bottom:1px dotted; cursor:help;\"})\n",
    "bring_it_down_index = bring_it_down['data-top_values']\n",
    "bring_it_down = bring_it_down['data-bot_values']\n",
    "print(bring_it_down_index)\n",
    "print(bring_it_down)"
   ]
  },
  {
   "cell_type": "code",
   "execution_count": 9,
   "id": "44a788bc-b4ca-42fa-b28f-17363aa099ff",
   "metadata": {},
   "outputs": [
    {
     "name": "stdout",
     "output_type": "stream",
     "text": [
      "{'1': '35', '9': '40', '10': '45', '11': '50', '12': '55', '13': '60', '14': '65', '15': '70', '16': '75', '17': '80', '18': '85'}\n"
     ]
    }
   ],
   "source": [
    "bring_it_down_index = bring_it_down_index.split(\";\")\n",
    "bring_it_down = bring_it_down.split(\";\")\n",
    "\n",
    "bring_passive = {key : value for key, value in zip(bring_it_down_index,bring_it_down)}\n",
    "print(bring_passive)"
   ]
  },
  {
   "cell_type": "markdown",
   "id": "0505ecd6-39ee-4d75-88e8-836180de6154",
   "metadata": {},
   "source": [
    "## Item Creation"
   ]
  },
  {
   "cell_type": "code",
   "execution_count": 10,
   "id": "4fbab561-a0f0-4deb-806a-37e88ca04a30",
   "metadata": {},
   "outputs": [],
   "source": [
    "%run class_item.ipynb"
   ]
  },
  {
   "cell_type": "code",
   "execution_count": 12,
   "id": "cede3935-db0b-437d-a90b-d716023648d8",
   "metadata": {},
   "outputs": [],
   "source": [
    "kraken_dict = {\"ad\" : kraken_stats[0], \"as\" : kraken_stats[1], \"crit\" : kraken_stats[2]}\n",
    "kraken_dict['three_autos'] = bring_passive\n"
   ]
  },
  {
   "cell_type": "code",
   "execution_count": 13,
   "id": "38a6fb94-20fa-4d4d-9c7d-dfaeaa829e4c",
   "metadata": {},
   "outputs": [],
   "source": [
    "Kraken = Item(\"kraken\", kraken_dict)"
   ]
  },
  {
   "cell_type": "code",
   "execution_count": 14,
   "id": "dcf201e8-deaf-49af-8263-750d9795f117",
   "metadata": {},
   "outputs": [
    {
     "name": "stdout",
     "output_type": "stream",
     "text": [
      "kraken = {'ad': 40, 'as': 0.3, 'crit': 0.2, 'three_autos': {'1': '35', '9': '40', '10': '45', '11': '50', '12': '55', '13': '60', '14': '65', '15': '70', '16': '75', '17': '80', '18': '85'}}\n"
     ]
    }
   ],
   "source": [
    "print(Kraken)"
   ]
  }
 ],
 "metadata": {
  "kernelspec": {
   "display_name": "Python 3 (ipykernel)",
   "language": "python",
   "name": "python3"
  },
  "language_info": {
   "codemirror_mode": {
    "name": "ipython",
    "version": 3
   },
   "file_extension": ".py",
   "mimetype": "text/x-python",
   "name": "python",
   "nbconvert_exporter": "python",
   "pygments_lexer": "ipython3",
   "version": "3.11.1"
  }
 },
 "nbformat": 4,
 "nbformat_minor": 5
}
