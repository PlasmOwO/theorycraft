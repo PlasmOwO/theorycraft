{
 "cells": [
  {
   "cell_type": "markdown",
   "id": "19b15672-a7e0-465e-be6e-a2d90035e2ff",
   "metadata": {},
   "source": [
    "# Web scraping stat Viego"
   ]
  },
  {
   "cell_type": "code",
   "execution_count": 5,
   "id": "9aa73783-2731-419c-9039-e38d04ed71db",
   "metadata": {},
   "outputs": [],
   "source": [
    "import pandas as pd\n",
    "import requests\n",
    "from bs4 import BeautifulSoup\n",
    "import re"
   ]
  },
  {
   "cell_type": "code",
   "execution_count": 6,
   "id": "c66e2576-bee8-455a-a234-fcb7a7fd9614",
   "metadata": {},
   "outputs": [
    {
     "data": {
      "text/plain": [
       "'https://leagueoflegends.fandom.com/wiki/Viego/LoL'"
      ]
     },
     "execution_count": 6,
     "metadata": {},
     "output_type": "execute_result"
    }
   ],
   "source": [
    "url = \"https://leagueoflegends.fandom.com/wiki/Viego/LoL\"\n",
    "url"
   ]
  },
  {
   "cell_type": "markdown",
   "id": "e817ef56-8cd8-4a48-9fbd-047796347c1a",
   "metadata": {},
   "source": [
    "*Statistic growth = base+ (perlvl) x (n-1) x (0.7025 + 0.0175 x (n-1))*"
   ]
  },
  {
   "cell_type": "code",
   "execution_count": 7,
   "id": "911a39c9-1734-4bff-ad0d-358c0fb3a4c0",
   "metadata": {},
   "outputs": [],
   "source": [
    "response = requests.get(url)\n",
    "html = BeautifulSoup(response.text, \"html.parser\")"
   ]
  },
  {
   "cell_type": "code",
   "execution_count": 8,
   "id": "877e9988-ec36-4c31-8afa-d2defef9b1de",
   "metadata": {},
   "outputs": [],
   "source": [
    "def findSpan(typeTag : str,  libTag : str):\n",
    "    return html.find(\"span\", {typeTag : libTag})"
   ]
  },
  {
   "cell_type": "code",
   "execution_count": 9,
   "id": "c6a25e9e-b3d2-4607-983f-1f0c068894d2",
   "metadata": {},
   "outputs": [],
   "source": [
    "hp = findSpan(\"id\",\"Health_Viego\")\n",
    "hp_lvl = findSpan(\"id\",\"Health_Viego_lvl\")\n",
    "hp_list = [(float(hp.text) + float(hp_lvl.text) * (n-1) *(0.7025 +0.0175 * (n-1))) for n in range(1,19)]"
   ]
  },
  {
   "cell_type": "code",
   "execution_count": 10,
   "id": "553b4eb4-6791-4133-b6f9-f5c185bfd5a5",
   "metadata": {},
   "outputs": [],
   "source": [
    "armor =  findSpan(\"id\",\"Armor_Viego\")\n",
    "armor_lvl = findSpan(\"id\",\"Armor_Viego_lvl\")\n",
    "armor_list = [(float(armor.text) + float(armor_lvl.text) * (n-1) *(0.7025 +0.0175 * (n-1))) for n in range(1,19)]"
   ]
  },
  {
   "cell_type": "code",
   "execution_count": 11,
   "id": "e4d27259-f8fa-4bef-b136-66f8def2cd66",
   "metadata": {},
   "outputs": [],
   "source": [
    "rm = findSpan(\"id\",\"MagicResist_Viego\")\n",
    "rm_lvl = findSpan(\"id\",\"MagicResist_Viego_lvl\")\n",
    "rm_list = [(float(rm.text) + float(rm_lvl.text) * (n-1) *(0.7025 +0.0175 * (n-1))) for n in range(1,19)]"
   ]
  },
  {
   "cell_type": "code",
   "execution_count": 12,
   "id": "16292a16-7f3b-45bc-8f53-95df7107ffe0",
   "metadata": {},
   "outputs": [],
   "source": [
    "ad = findSpan(\"id\",\"AttackDamage_Viego\")\n",
    "ad_lvl = findSpan(\"id\",\"AttackDamage_Viego_lvl\")\n",
    "ad_list = [(float(ad.text) + float(ad_lvl.text) * (n-1) *(0.7025 +0.0175 * (n-1))) for n in range(1,19)]"
   ]
  },
  {
   "cell_type": "code",
   "execution_count": 13,
   "id": "ec1ab48c-02a2-4757-b154-29a5339a72c9",
   "metadata": {},
   "outputs": [
    {
     "name": "stdout",
     "output_type": "stream",
     "text": [
      "0.658\n"
     ]
    }
   ],
   "source": [
    "attack_speed = html.findAll('div', {\"style\" : \"width: calc(1 / 2 * 100%);\"})\n",
    "attack_speed = attack_speed[10]\n",
    "attack_speed = float(re.sub(r'[^0-9.,]', '', attack_speed.text))\n",
    "print(attack_speed)"
   ]
  },
  {
   "cell_type": "code",
   "execution_count": 14,
   "id": "bdafbb58-8f8c-4f77-a647-c751d8f5d9da",
   "metadata": {},
   "outputs": [
    {
     "name": "stdout",
     "output_type": "stream",
     "text": [
      "0.025\n",
      "[0.0, 0.018, 0.036875000000000005, 0.05662500000000001, 0.07725, 0.09875, 0.12112500000000001, 0.14437500000000003, 0.1685, 0.19350000000000003, 0.21937500000000001, 0.24612500000000004, 0.27375000000000005, 0.30225, 0.33162500000000006, 0.36187500000000006, 0.393, 0.42500000000000004]\n"
     ]
    }
   ],
   "source": [
    "bonus_as_lvl = html.findAll('div', {\"style\" : \"width: calc(1 / 2 * 100%);\"})\n",
    "bonus_as_lvl = bonus_as_lvl[13]\n",
    "bonus_as_lvl = float(re.sub(r'[^0-9.,]', '', bonus_as_lvl.text))\n",
    "bonus_as_lvl /=100\n",
    "print(bonus_as_lvl)\n",
    "bonus_as_list = [ float(bonus_as_lvl) * (n-1) *(0.7025 +0.0175 * (n-1)) for n in range(1,19)]\n",
    "print(bonus_as_list)"
   ]
  },
  {
   "cell_type": "markdown",
   "id": "f1d27a4e-42bc-4caa-acd6-2a21e74e5731",
   "metadata": {},
   "source": [
    "RATIO = 0.658\n",
    "Formule total AS : *TOTAL = base + ratio*bonus"
   ]
  },
  {
   "cell_type": "code",
   "execution_count": 15,
   "id": "89c165f0-66a4-4f45-8d74-f9a2b1f36275",
   "metadata": {},
   "outputs": [],
   "source": [
    "ratio = 0.658"
   ]
  },
  {
   "cell_type": "code",
   "execution_count": 16,
   "id": "241ae126-6573-40a1-b711-fd6c15eaa76c",
   "metadata": {},
   "outputs": [
    {
     "name": "stdout",
     "output_type": "stream",
     "text": [
      "[0.658, 0.669844, 0.6822637500000001, 0.69525925, 0.7088305, 0.7229775, 0.7377002500000001, 0.75299875, 0.768873, 0.785323, 0.80234875, 0.8199502500000001, 0.8381275000000001, 0.8568805, 0.87620925, 0.89611375, 0.9165940000000001, 0.9376500000000001]\n"
     ]
    }
   ],
   "source": [
    "as_list = [ attack_speed + ratio*bonus_as_list[n]  for n in range(0,18)]\n",
    "print(as_list)"
   ]
  },
  {
   "cell_type": "code",
   "execution_count": 17,
   "id": "7a028168-867b-4ab0-9bc6-e845ca6d58c6",
   "metadata": {},
   "outputs": [
    {
     "data": {
      "text/html": [
       "<div>\n",
       "<style scoped>\n",
       "    .dataframe tbody tr th:only-of-type {\n",
       "        vertical-align: middle;\n",
       "    }\n",
       "\n",
       "    .dataframe tbody tr th {\n",
       "        vertical-align: top;\n",
       "    }\n",
       "\n",
       "    .dataframe thead th {\n",
       "        text-align: right;\n",
       "    }\n",
       "</style>\n",
       "<table border=\"1\" class=\"dataframe\">\n",
       "  <thead>\n",
       "    <tr style=\"text-align: right;\">\n",
       "      <th></th>\n",
       "      <th>health</th>\n",
       "      <th>armor</th>\n",
       "      <th>magic_res</th>\n",
       "      <th>ad</th>\n",
       "      <th>as</th>\n",
       "    </tr>\n",
       "  </thead>\n",
       "  <tbody>\n",
       "    <tr>\n",
       "      <th>1</th>\n",
       "      <td>630.000</td>\n",
       "      <td>34.000</td>\n",
       "      <td>32.00000</td>\n",
       "      <td>57.0000</td>\n",
       "      <td>0.000000</td>\n",
       "    </tr>\n",
       "    <tr>\n",
       "      <th>2</th>\n",
       "      <td>708.480</td>\n",
       "      <td>37.744</td>\n",
       "      <td>33.47600</td>\n",
       "      <td>59.5200</td>\n",
       "      <td>0.018000</td>\n",
       "    </tr>\n",
       "    <tr>\n",
       "      <th>3</th>\n",
       "      <td>790.775</td>\n",
       "      <td>41.670</td>\n",
       "      <td>35.02375</td>\n",
       "      <td>62.1625</td>\n",
       "      <td>0.036875</td>\n",
       "    </tr>\n",
       "    <tr>\n",
       "      <th>4</th>\n",
       "      <td>876.885</td>\n",
       "      <td>45.778</td>\n",
       "      <td>36.64325</td>\n",
       "      <td>64.9275</td>\n",
       "      <td>0.056625</td>\n",
       "    </tr>\n",
       "    <tr>\n",
       "      <th>5</th>\n",
       "      <td>966.810</td>\n",
       "      <td>50.068</td>\n",
       "      <td>38.33450</td>\n",
       "      <td>67.8150</td>\n",
       "      <td>0.077250</td>\n",
       "    </tr>\n",
       "    <tr>\n",
       "      <th>6</th>\n",
       "      <td>1060.550</td>\n",
       "      <td>54.540</td>\n",
       "      <td>40.09750</td>\n",
       "      <td>70.8250</td>\n",
       "      <td>0.098750</td>\n",
       "    </tr>\n",
       "    <tr>\n",
       "      <th>7</th>\n",
       "      <td>1158.105</td>\n",
       "      <td>59.194</td>\n",
       "      <td>41.93225</td>\n",
       "      <td>73.9575</td>\n",
       "      <td>0.121125</td>\n",
       "    </tr>\n",
       "    <tr>\n",
       "      <th>8</th>\n",
       "      <td>1259.475</td>\n",
       "      <td>64.030</td>\n",
       "      <td>43.83875</td>\n",
       "      <td>77.2125</td>\n",
       "      <td>0.144375</td>\n",
       "    </tr>\n",
       "    <tr>\n",
       "      <th>9</th>\n",
       "      <td>1364.660</td>\n",
       "      <td>69.048</td>\n",
       "      <td>45.81700</td>\n",
       "      <td>80.5900</td>\n",
       "      <td>0.168500</td>\n",
       "    </tr>\n",
       "    <tr>\n",
       "      <th>10</th>\n",
       "      <td>1473.660</td>\n",
       "      <td>74.248</td>\n",
       "      <td>47.86700</td>\n",
       "      <td>84.0900</td>\n",
       "      <td>0.193500</td>\n",
       "    </tr>\n",
       "    <tr>\n",
       "      <th>11</th>\n",
       "      <td>1586.475</td>\n",
       "      <td>79.630</td>\n",
       "      <td>49.98875</td>\n",
       "      <td>87.7125</td>\n",
       "      <td>0.219375</td>\n",
       "    </tr>\n",
       "    <tr>\n",
       "      <th>12</th>\n",
       "      <td>1703.105</td>\n",
       "      <td>85.194</td>\n",
       "      <td>52.18225</td>\n",
       "      <td>91.4575</td>\n",
       "      <td>0.246125</td>\n",
       "    </tr>\n",
       "    <tr>\n",
       "      <th>13</th>\n",
       "      <td>1823.550</td>\n",
       "      <td>90.940</td>\n",
       "      <td>54.44750</td>\n",
       "      <td>95.3250</td>\n",
       "      <td>0.273750</td>\n",
       "    </tr>\n",
       "    <tr>\n",
       "      <th>14</th>\n",
       "      <td>1947.810</td>\n",
       "      <td>96.868</td>\n",
       "      <td>56.78450</td>\n",
       "      <td>99.3150</td>\n",
       "      <td>0.302250</td>\n",
       "    </tr>\n",
       "    <tr>\n",
       "      <th>15</th>\n",
       "      <td>2075.885</td>\n",
       "      <td>102.978</td>\n",
       "      <td>59.19325</td>\n",
       "      <td>103.4275</td>\n",
       "      <td>0.331625</td>\n",
       "    </tr>\n",
       "    <tr>\n",
       "      <th>16</th>\n",
       "      <td>2207.775</td>\n",
       "      <td>109.270</td>\n",
       "      <td>61.67375</td>\n",
       "      <td>107.6625</td>\n",
       "      <td>0.361875</td>\n",
       "    </tr>\n",
       "    <tr>\n",
       "      <th>17</th>\n",
       "      <td>2343.480</td>\n",
       "      <td>115.744</td>\n",
       "      <td>64.22600</td>\n",
       "      <td>112.0200</td>\n",
       "      <td>0.393000</td>\n",
       "    </tr>\n",
       "    <tr>\n",
       "      <th>18</th>\n",
       "      <td>2483.000</td>\n",
       "      <td>122.400</td>\n",
       "      <td>66.85000</td>\n",
       "      <td>116.5000</td>\n",
       "      <td>0.425000</td>\n",
       "    </tr>\n",
       "  </tbody>\n",
       "</table>\n",
       "</div>"
      ],
      "text/plain": [
       "      health    armor  magic_res        ad        as\n",
       "1    630.000   34.000   32.00000   57.0000  0.000000\n",
       "2    708.480   37.744   33.47600   59.5200  0.018000\n",
       "3    790.775   41.670   35.02375   62.1625  0.036875\n",
       "4    876.885   45.778   36.64325   64.9275  0.056625\n",
       "5    966.810   50.068   38.33450   67.8150  0.077250\n",
       "6   1060.550   54.540   40.09750   70.8250  0.098750\n",
       "7   1158.105   59.194   41.93225   73.9575  0.121125\n",
       "8   1259.475   64.030   43.83875   77.2125  0.144375\n",
       "9   1364.660   69.048   45.81700   80.5900  0.168500\n",
       "10  1473.660   74.248   47.86700   84.0900  0.193500\n",
       "11  1586.475   79.630   49.98875   87.7125  0.219375\n",
       "12  1703.105   85.194   52.18225   91.4575  0.246125\n",
       "13  1823.550   90.940   54.44750   95.3250  0.273750\n",
       "14  1947.810   96.868   56.78450   99.3150  0.302250\n",
       "15  2075.885  102.978   59.19325  103.4275  0.331625\n",
       "16  2207.775  109.270   61.67375  107.6625  0.361875\n",
       "17  2343.480  115.744   64.22600  112.0200  0.393000\n",
       "18  2483.000  122.400   66.85000  116.5000  0.425000"
      ]
     },
     "execution_count": 17,
     "metadata": {},
     "output_type": "execute_result"
    }
   ],
   "source": [
    "viegoStat = pd.DataFrame(index=range(1,19),columns=['health','armor','magic_res','ad','as'])\n",
    "viegoStat['health'] = hp_list\n",
    "viegoStat['armor'] = armor_list\n",
    "viegoStat['magic_res'] = rm_list\n",
    "viegoStat['ad'] = ad_list\n",
    "viegoStat['as'] = bonus_as_list #Ici c'est le bonus d'attaque speed, il faut additionner les autres bonus\n",
    "viegoStat"
   ]
  },
  {
   "cell_type": "markdown",
   "id": "977857b9-fb85-424a-8855-92e6cc2ddd98",
   "metadata": {},
   "source": [
    "Ultime Viego  "
   ]
  },
  {
   "cell_type": "markdown",
   "id": "16d29e95-1e3f-4ec6-aef7-b585af144e21",
   "metadata": {},
   "source": [
    "Ultime Cooldown "
   ]
  },
  {
   "cell_type": "code",
   "execution_count": 67,
   "id": "e6321a46-38fa-4c65-9135-1faadb9c84d5",
   "metadata": {},
   "outputs": [
    {
     "name": "stdout",
     "output_type": "stream",
     "text": [
      "COOLDOWN: 120 / 100 / 80\n"
     ]
    }
   ],
   "source": [
    "soup = BeautifulSoup(response.content, 'html.parser')\n",
    "\n",
    "ultime_cooldown = soup.find(\"div\", {'class': 'skill skill_r'})\n",
    "if ultime_cooldown:\n",
    "    ultime_cooldown_value = ultime_cooldown.find('div', {'class': 'pi-data-value pi-font'})\n",
    "    if ultime_cooldown_value:\n",
    "        ultime_cooldown_text = ultime_cooldown_value.text\n",
    "        print('COOLDOWN:', ultime_cooldown_text)\n",
    "    else:\n",
    "        print('Element \"pi-data-value pi-font\" non trouvé dans skill_r')\n",
    "else:\n",
    "    print('Element \"skill skill_r\" non trouvé dans la page')"
   ]
  },
  {
   "cell_type": "markdown",
   "id": "f44a9745-b874-472b-ad85-efa90934c1e0",
   "metadata": {},
   "source": [
    "ligne rouge dans le paragraphe "
   ]
  },
  {
   "cell_type": "code",
   "execution_count": 68,
   "id": "5e30b5fa-a776-41fb-97e8-f86e9cd63276",
   "metadata": {},
   "outputs": [
    {
     "name": "stdout",
     "output_type": "stream",
     "text": [
      "120 x (1 + critical strike chance)\n"
     ]
    }
   ],
   "source": [
    "soup = BeautifulSoup(response.content, 'html.parser')\n",
    "lr = soup.find(\"div\", {'class' : 'skill skill_r'})\n",
    "lr = lr.find('span', {'class' : 'pp-tooltip'})['data-displayformula']\n",
    "print(lr)"
   ]
  },
  {
   "cell_type": "markdown",
   "id": "7774de9f-14ef-4854-addc-78282b308ce8",
   "metadata": {},
   "source": [
    "Physical Damage"
   ]
  },
  {
   "cell_type": "code",
   "execution_count": 69,
   "id": "e77f2c77-914e-49ba-89a6-324a6e0311f4",
   "metadata": {},
   "outputs": [
    {
     "name": "stdout",
     "output_type": "stream",
     "text": [
      "12 / 16 / 20% (+ 5% per 100 bonus AD) of target's missing health\n"
     ]
    }
   ],
   "source": [
    "soup = BeautifulSoup(response.content, 'html.parser')\n",
    "pdamage = soup.find(\"div\", {'class': 'skill skill_r'})\n",
    "pdamage = pdamage.find('div', {'style': 'grid-column-end: span 2; display:contents'})\n",
    "pdamage = pdamage.find('span', {'style': 'color: #1F995C; white-space:normal'})\n",
    "print(pdamage.text)"
   ]
  },
  {
   "cell_type": "markdown",
   "id": "9e0dfe99-bbf7-40c1-88e8-dce5f9fabd94",
   "metadata": {},
   "source": [
    "Stat board"
   ]
  },
  {
   "cell_type": "code",
   "execution_count": 79,
   "id": "7efbe5ae-0ce7-4c39-8875-3b2ed5362440",
   "metadata": {},
   "outputs": [
    {
     "data": {
      "text/html": [
       "<div>\n",
       "<style scoped>\n",
       "    .dataframe tbody tr th:only-of-type {\n",
       "        vertical-align: middle;\n",
       "    }\n",
       "\n",
       "    .dataframe tbody tr th {\n",
       "        vertical-align: top;\n",
       "    }\n",
       "\n",
       "    .dataframe thead th {\n",
       "        text-align: right;\n",
       "    }\n",
       "</style>\n",
       "<table border=\"1\" class=\"dataframe\">\n",
       "  <thead>\n",
       "    <tr style=\"text-align: right;\">\n",
       "      <th></th>\n",
       "      <th>Ultimate Cooldown</th>\n",
       "      <th>Physical Damage</th>\n",
       "      <th>Ligne Rouge</th>\n",
       "    </tr>\n",
       "  </thead>\n",
       "  <tbody>\n",
       "    <tr>\n",
       "      <th>1</th>\n",
       "      <td>120</td>\n",
       "      <td>12</td>\n",
       "      <td>120 x (1 + critical strike chance)</td>\n",
       "    </tr>\n",
       "    <tr>\n",
       "      <th>2</th>\n",
       "      <td>100</td>\n",
       "      <td>16</td>\n",
       "      <td>120 x (1 + critical strike chance)</td>\n",
       "    </tr>\n",
       "    <tr>\n",
       "      <th>3</th>\n",
       "      <td>80</td>\n",
       "      <td>20% (+ 5% per 100 bonus AD) of target's missin...</td>\n",
       "      <td>120 x (1 + critical strike chance)</td>\n",
       "    </tr>\n",
       "  </tbody>\n",
       "</table>\n",
       "</div>"
      ],
      "text/plain": [
       "  Ultimate Cooldown                                    Physical Damage  \\\n",
       "1               120                                                 12   \n",
       "2               100                                                 16   \n",
       "3                80  20% (+ 5% per 100 bonus AD) of target's missin...   \n",
       "\n",
       "                          Ligne Rouge  \n",
       "1  120 x (1 + critical strike chance)  \n",
       "2  120 x (1 + critical strike chance)  \n",
       "3  120 x (1 + critical strike chance)  "
      ]
     },
     "execution_count": 79,
     "metadata": {},
     "output_type": "execute_result"
    }
   ],
   "source": [
    "UltimeStat = pd.DataFrame(index=range(1,4), columns=['Ultimate Cooldown', 'Physical Damage', 'Ligne Rouge'])\n",
    "UltimeStat['Ultimate Cooldown'] = ultime_cooldown_text.split(\" / \")\n",
    "UltimeStat['Physical Damage'] = pdamage.text.split(\" / \")\n",
    "UltimeStat['Ligne Rouge'] = lr\n",
    "UltimeStat"
   ]
  }
 ],
 "metadata": {
  "kernelspec": {
   "display_name": "Python 3 (ipykernel)",
   "language": "python",
   "name": "python3"
  },
  "language_info": {
   "codemirror_mode": {
    "name": "ipython",
    "version": 3
   },
   "file_extension": ".py",
   "mimetype": "text/x-python",
   "name": "python",
   "nbconvert_exporter": "python",
   "pygments_lexer": "ipython3",
   "version": "3.9.6"
  }
 },
 "nbformat": 4,
 "nbformat_minor": 5
}
