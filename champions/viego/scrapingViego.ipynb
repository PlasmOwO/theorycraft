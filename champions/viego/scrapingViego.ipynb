{
 "cells": [
  {
   "cell_type": "markdown",
   "id": "19b15672-a7e0-465e-be6e-a2d90035e2ff",
   "metadata": {},
   "source": [
    "# Web scraping stat Viego"
   ]
  },
  {
   "cell_type": "code",
   "execution_count": 173,
   "id": "9aa73783-2731-419c-9039-e38d04ed71db",
   "metadata": {},
   "outputs": [],
   "source": [
    "import pandas as pd\n",
    "import requests\n",
    "from bs4 import BeautifulSoup\n",
    "import re"
   ]
  },
  {
   "cell_type": "code",
   "execution_count": 174,
   "id": "c66e2576-bee8-455a-a234-fcb7a7fd9614",
   "metadata": {},
   "outputs": [
    {
     "data": {
      "text/plain": [
       "'https://leagueoflegends.fandom.com/wiki/Viego/LoL'"
      ]
     },
     "execution_count": 174,
     "metadata": {},
     "output_type": "execute_result"
    }
   ],
   "source": [
    "url = \"https://leagueoflegends.fandom.com/wiki/Viego/LoL\"\n",
    "url"
   ]
  },
  {
   "cell_type": "markdown",
   "id": "e817ef56-8cd8-4a48-9fbd-047796347c1a",
   "metadata": {},
   "source": [
    "*Statistic growth = base+ (perlvl) x (n-1) x (0.7025 + 0.0175 x (n-1))*"
   ]
  },
  {
   "cell_type": "code",
   "execution_count": 175,
   "id": "911a39c9-1734-4bff-ad0d-358c0fb3a4c0",
   "metadata": {},
   "outputs": [],
   "source": [
    "response = requests.get(url)\n",
    "html = BeautifulSoup(response.text, \"html.parser\")"
   ]
  },
  {
   "cell_type": "code",
   "execution_count": 176,
   "id": "877e9988-ec36-4c31-8afa-d2defef9b1de",
   "metadata": {},
   "outputs": [],
   "source": [
    "def findSpan(typeTag : str,  libTag : str):\n",
    "    return html.find(\"span\", {typeTag : libTag})"
   ]
  },
  {
   "cell_type": "code",
   "execution_count": 177,
   "id": "c6a25e9e-b3d2-4607-983f-1f0c068894d2",
   "metadata": {},
   "outputs": [],
   "source": [
    "hp = findSpan(\"id\",\"Health_Viego\")\n",
    "hp_lvl = findSpan(\"id\",\"Health_Viego_lvl\")\n",
    "hp_list = [(float(hp.text) + float(hp_lvl.text) * (n-1) *(0.7025 +0.0175 * (n-1))) for n in range(1,19)]"
   ]
  },
  {
   "cell_type": "code",
   "execution_count": 178,
   "id": "553b4eb4-6791-4133-b6f9-f5c185bfd5a5",
   "metadata": {},
   "outputs": [],
   "source": [
    "armor =  findSpan(\"id\",\"Armor_Viego\")\n",
    "armor_lvl = findSpan(\"id\",\"Armor_Viego_lvl\")\n",
    "armor_list = [(float(armor.text) + float(armor_lvl.text) * (n-1) *(0.7025 +0.0175 * (n-1))) for n in range(1,19)]"
   ]
  },
  {
   "cell_type": "code",
   "execution_count": 179,
   "id": "e4d27259-f8fa-4bef-b136-66f8def2cd66",
   "metadata": {},
   "outputs": [],
   "source": [
    "rm = findSpan(\"id\",\"MagicResist_Viego\")\n",
    "rm_lvl = findSpan(\"id\",\"MagicResist_Viego_lvl\")\n",
    "rm_list = [(float(rm.text) + float(rm_lvl.text) * (n-1) *(0.7025 +0.0175 * (n-1))) for n in range(1,19)]"
   ]
  },
  {
   "cell_type": "code",
   "execution_count": 180,
   "id": "16292a16-7f3b-45bc-8f53-95df7107ffe0",
   "metadata": {},
   "outputs": [],
   "source": [
    "ad = findSpan(\"id\",\"AttackDamage_Viego\")\n",
    "ad_lvl = findSpan(\"id\",\"AttackDamage_Viego_lvl\")\n",
    "ad_list = [(float(ad.text) + float(ad_lvl.text) * (n-1) *(0.7025 +0.0175 * (n-1))) for n in range(1,19)]"
   ]
  },
  {
   "cell_type": "code",
   "execution_count": 181,
   "id": "ec1ab48c-02a2-4757-b154-29a5339a72c9",
   "metadata": {},
   "outputs": [
    {
     "name": "stdout",
     "output_type": "stream",
     "text": [
      "0.658\n"
     ]
    }
   ],
   "source": [
    "attack_speed = html.findAll('div', {\"style\" : \"width: calc(1 / 2 * 100%);\"})\n",
    "attack_speed = attack_speed[10]\n",
    "attack_speed = float(re.sub(r'[^0-9.,]', '', attack_speed.text))\n",
    "print(attack_speed)"
   ]
  },
  {
   "cell_type": "code",
   "execution_count": 182,
   "id": "bdafbb58-8f8c-4f77-a647-c751d8f5d9da",
   "metadata": {},
   "outputs": [
    {
     "name": "stdout",
     "output_type": "stream",
     "text": [
      "0.025\n",
      "[0.0, 0.018, 0.036875000000000005, 0.05662500000000001, 0.07725, 0.09875, 0.12112500000000001, 0.14437500000000003, 0.1685, 0.19350000000000003, 0.21937500000000001, 0.24612500000000004, 0.27375000000000005, 0.30225, 0.33162500000000006, 0.36187500000000006, 0.393, 0.42500000000000004]\n"
     ]
    }
   ],
   "source": [
    "bonus_as_lvl = html.findAll('div', {\"style\" : \"width: calc(1 / 2 * 100%);\"})\n",
    "bonus_as_lvl = bonus_as_lvl[13]\n",
    "bonus_as_lvl = float(re.sub(r'[^0-9.,]', '', bonus_as_lvl.text))\n",
    "bonus_as_lvl /=100\n",
    "print(bonus_as_lvl)\n",
    "bonus_as_list = [ float(bonus_as_lvl) * (n-1) *(0.7025 +0.0175 * (n-1)) for n in range(1,19)]\n",
    "print(bonus_as_list)"
   ]
  },
  {
   "cell_type": "markdown",
   "id": "f1d27a4e-42bc-4caa-acd6-2a21e74e5731",
   "metadata": {},
   "source": [
    "RATIO = 0.658\n",
    "Formule total AS : *TOTAL = base + ratio*bonus"
   ]
  },
  {
   "cell_type": "code",
   "execution_count": 183,
   "id": "89c165f0-66a4-4f45-8d74-f9a2b1f36275",
   "metadata": {},
   "outputs": [],
   "source": [
    "ratio = 0.658"
   ]
  },
  {
   "cell_type": "code",
   "execution_count": 184,
   "id": "241ae126-6573-40a1-b711-fd6c15eaa76c",
   "metadata": {},
   "outputs": [
    {
     "name": "stdout",
     "output_type": "stream",
     "text": [
      "[0.658, 0.669844, 0.6822637500000001, 0.69525925, 0.7088305, 0.7229775, 0.7377002500000001, 0.75299875, 0.768873, 0.785323, 0.80234875, 0.8199502500000001, 0.8381275000000001, 0.8568805, 0.87620925, 0.89611375, 0.9165940000000001, 0.9376500000000001]\n"
     ]
    }
   ],
   "source": [
    "as_list = [ attack_speed + ratio*bonus_as_list[n]  for n in range(0,18)]\n",
    "print(as_list)"
   ]
  },
  {
   "cell_type": "code",
   "execution_count": 197,
   "id": "7a028168-867b-4ab0-9bc6-e845ca6d58c6",
   "metadata": {},
   "outputs": [
    {
     "data": {
      "text/html": [
       "<div>\n",
       "<style scoped>\n",
       "    .dataframe tbody tr th:only-of-type {\n",
       "        vertical-align: middle;\n",
       "    }\n",
       "\n",
       "    .dataframe tbody tr th {\n",
       "        vertical-align: top;\n",
       "    }\n",
       "\n",
       "    .dataframe thead th {\n",
       "        text-align: right;\n",
       "    }\n",
       "</style>\n",
       "<table border=\"1\" class=\"dataframe\">\n",
       "  <thead>\n",
       "    <tr style=\"text-align: right;\">\n",
       "      <th></th>\n",
       "      <th>hp</th>\n",
       "      <th>armor</th>\n",
       "      <th>magic_res</th>\n",
       "      <th>ad</th>\n",
       "      <th>as</th>\n",
       "      <th>ViegoList</th>\n",
       "    </tr>\n",
       "  </thead>\n",
       "  <tbody>\n",
       "    <tr>\n",
       "      <th>1</th>\n",
       "      <td>630.000</td>\n",
       "      <td>34.000</td>\n",
       "      <td>32.00000</td>\n",
       "      <td>57.0000</td>\n",
       "      <td>0.000000</td>\n",
       "      <td>0.02</td>\n",
       "    </tr>\n",
       "    <tr>\n",
       "      <th>2</th>\n",
       "      <td>708.480</td>\n",
       "      <td>37.744</td>\n",
       "      <td>33.47600</td>\n",
       "      <td>59.5200</td>\n",
       "      <td>0.018000</td>\n",
       "      <td>0.01425</td>\n",
       "    </tr>\n",
       "    <tr>\n",
       "      <th>3</th>\n",
       "      <td>790.775</td>\n",
       "      <td>41.670</td>\n",
       "      <td>35.02375</td>\n",
       "      <td>62.1625</td>\n",
       "      <td>0.036875</td>\n",
       "      <td>0.0002</td>\n",
       "    </tr>\n",
       "    <tr>\n",
       "      <th>4</th>\n",
       "      <td>876.885</td>\n",
       "      <td>45.778</td>\n",
       "      <td>36.64325</td>\n",
       "      <td>64.9275</td>\n",
       "      <td>0.056625</td>\n",
       "      <td>0.0</td>\n",
       "    </tr>\n",
       "    <tr>\n",
       "      <th>5</th>\n",
       "      <td>966.810</td>\n",
       "      <td>50.068</td>\n",
       "      <td>38.33450</td>\n",
       "      <td>67.8150</td>\n",
       "      <td>0.077250</td>\n",
       "      <td>0</td>\n",
       "    </tr>\n",
       "    <tr>\n",
       "      <th>6</th>\n",
       "      <td>1060.550</td>\n",
       "      <td>54.540</td>\n",
       "      <td>40.09750</td>\n",
       "      <td>70.8250</td>\n",
       "      <td>0.098750</td>\n",
       "      <td>0</td>\n",
       "    </tr>\n",
       "    <tr>\n",
       "      <th>7</th>\n",
       "      <td>1158.105</td>\n",
       "      <td>59.194</td>\n",
       "      <td>41.93225</td>\n",
       "      <td>73.9575</td>\n",
       "      <td>0.121125</td>\n",
       "      <td>0</td>\n",
       "    </tr>\n",
       "    <tr>\n",
       "      <th>8</th>\n",
       "      <td>1259.475</td>\n",
       "      <td>64.030</td>\n",
       "      <td>43.83875</td>\n",
       "      <td>77.2125</td>\n",
       "      <td>0.144375</td>\n",
       "      <td>0</td>\n",
       "    </tr>\n",
       "    <tr>\n",
       "      <th>9</th>\n",
       "      <td>1364.660</td>\n",
       "      <td>69.048</td>\n",
       "      <td>45.81700</td>\n",
       "      <td>80.5900</td>\n",
       "      <td>0.168500</td>\n",
       "      <td>0</td>\n",
       "    </tr>\n",
       "    <tr>\n",
       "      <th>10</th>\n",
       "      <td>1473.660</td>\n",
       "      <td>74.248</td>\n",
       "      <td>47.86700</td>\n",
       "      <td>84.0900</td>\n",
       "      <td>0.193500</td>\n",
       "      <td>0</td>\n",
       "    </tr>\n",
       "    <tr>\n",
       "      <th>11</th>\n",
       "      <td>1586.475</td>\n",
       "      <td>79.630</td>\n",
       "      <td>49.98875</td>\n",
       "      <td>87.7125</td>\n",
       "      <td>0.219375</td>\n",
       "      <td>0</td>\n",
       "    </tr>\n",
       "    <tr>\n",
       "      <th>12</th>\n",
       "      <td>1703.105</td>\n",
       "      <td>85.194</td>\n",
       "      <td>52.18225</td>\n",
       "      <td>91.4575</td>\n",
       "      <td>0.246125</td>\n",
       "      <td>0</td>\n",
       "    </tr>\n",
       "    <tr>\n",
       "      <th>13</th>\n",
       "      <td>1823.550</td>\n",
       "      <td>90.940</td>\n",
       "      <td>54.44750</td>\n",
       "      <td>95.3250</td>\n",
       "      <td>0.273750</td>\n",
       "      <td>0</td>\n",
       "    </tr>\n",
       "    <tr>\n",
       "      <th>14</th>\n",
       "      <td>1947.810</td>\n",
       "      <td>96.868</td>\n",
       "      <td>56.78450</td>\n",
       "      <td>99.3150</td>\n",
       "      <td>0.302250</td>\n",
       "      <td>0</td>\n",
       "    </tr>\n",
       "    <tr>\n",
       "      <th>15</th>\n",
       "      <td>2075.885</td>\n",
       "      <td>102.978</td>\n",
       "      <td>59.19325</td>\n",
       "      <td>103.4275</td>\n",
       "      <td>0.331625</td>\n",
       "      <td>0</td>\n",
       "    </tr>\n",
       "    <tr>\n",
       "      <th>16</th>\n",
       "      <td>2207.775</td>\n",
       "      <td>109.270</td>\n",
       "      <td>61.67375</td>\n",
       "      <td>107.6625</td>\n",
       "      <td>0.361875</td>\n",
       "      <td>0</td>\n",
       "    </tr>\n",
       "    <tr>\n",
       "      <th>17</th>\n",
       "      <td>2343.480</td>\n",
       "      <td>115.744</td>\n",
       "      <td>64.22600</td>\n",
       "      <td>112.0200</td>\n",
       "      <td>0.393000</td>\n",
       "      <td>0</td>\n",
       "    </tr>\n",
       "    <tr>\n",
       "      <th>18</th>\n",
       "      <td>2483.000</td>\n",
       "      <td>122.400</td>\n",
       "      <td>66.85000</td>\n",
       "      <td>116.5000</td>\n",
       "      <td>0.425000</td>\n",
       "      <td>0</td>\n",
       "    </tr>\n",
       "  </tbody>\n",
       "</table>\n",
       "</div>"
      ],
      "text/plain": [
       "          hp    armor  magic_res        ad        as ViegoList\n",
       "1    630.000   34.000   32.00000   57.0000  0.000000      0.02\n",
       "2    708.480   37.744   33.47600   59.5200  0.018000   0.01425\n",
       "3    790.775   41.670   35.02375   62.1625  0.036875    0.0002\n",
       "4    876.885   45.778   36.64325   64.9275  0.056625       0.0\n",
       "5    966.810   50.068   38.33450   67.8150  0.077250         0\n",
       "6   1060.550   54.540   40.09750   70.8250  0.098750         0\n",
       "7   1158.105   59.194   41.93225   73.9575  0.121125         0\n",
       "8   1259.475   64.030   43.83875   77.2125  0.144375         0\n",
       "9   1364.660   69.048   45.81700   80.5900  0.168500         0\n",
       "10  1473.660   74.248   47.86700   84.0900  0.193500         0\n",
       "11  1586.475   79.630   49.98875   87.7125  0.219375         0\n",
       "12  1703.105   85.194   52.18225   91.4575  0.246125         0\n",
       "13  1823.550   90.940   54.44750   95.3250  0.273750         0\n",
       "14  1947.810   96.868   56.78450   99.3150  0.302250         0\n",
       "15  2075.885  102.978   59.19325  103.4275  0.331625         0\n",
       "16  2207.775  109.270   61.67375  107.6625  0.361875         0\n",
       "17  2343.480  115.744   64.22600  112.0200  0.393000         0\n",
       "18  2483.000  122.400   66.85000  116.5000  0.425000         0"
      ]
     },
     "execution_count": 197,
     "metadata": {},
     "output_type": "execute_result"
    }
   ],
   "source": [
    "viegoStat = pd.DataFrame(index=range(1,19),columns=['hp','armor','magic_res','ad','as'])\n",
    "viegoStat['hp'] = hp_list\n",
    "viegoStat['armor'] = armor_list\n",
    "viegoStat['magic_res'] = rm_list\n",
    "viegoStat['ad'] = ad_list\n",
    "viegoStat['as'] = bonus_as_list #Ici c'est le bonus d'attaque speed, il faut additionner les autres bonus\n",
    "viegoStat['ViegoList'] = pViegoList \n",
    "viegoStat"
   ]
  },
  {
   "cell_type": "code",
   "execution_count": 186,
   "id": "242faca5-6d88-4b7a-a0e8-b7971749fd96",
   "metadata": {},
   "outputs": [],
   "source": [
    "pViego = html.find(\"div\" ,{'class' : 'skill skill_innate' })\n",
    "wViego = html.find(\"div\", {\"class\" : \"skill skill_w\"})"
   ]
  },
  {
   "cell_type": "code",
   "execution_count": 203,
   "id": "44eadb33-86dc-420f-b774-1ba8b5c58dc7",
   "metadata": {
    "scrolled": true
   },
   "outputs": [
    {
     "name": "stdout",
     "output_type": "stream",
     "text": [
      "['0.02']\n",
      "['0.02', '0.01425']\n",
      "['0.02', '0.01425', '0.0']\n",
      "['0.02', '0.01425', '0.0', '0.0']\n",
      "0.03425\n",
      "[80, 135, 190, 245, 300]\n",
      "8\n",
      "1.0AP\n"
     ]
    }
   ],
   "source": [
    "pViegoList = []\n",
    "\n",
    "\n",
    "try :\n",
    "    pViegoList.append(str(float(re.sub(r'[^0-9.,]', '', pViego.find(\"span\", {'style' : \"color: #1F995C; white-space:normal\"}).text))/100))\n",
    "    print(pViegoList)\n",
    "    \n",
    "    pViegoList.append(str(float(re.sub(r'[^0-9.,]', '',pViego.find(\"span\",{\"style\" : \"color:orange; white-space:normal\"}).text[0:10])) * ad_list[0] /10000))\n",
    "    print(pViegoList)\n",
    "    pViegoList.append(str(float(re.sub(r'[^0-9.,]', '',pViego.find(\"span\",{\"style\" : \"color: #7A6DFF; white-space:normal\"}).text[0:10]))* 0 /10000))\n",
    "    print(pViegoList)\n",
    "    pViegoList.append(str(float(re.sub(r'[^0-9.,]', '',pViego.find(\"span\",{\"style\" : \"color:orangered; white-space:normal\"}).text[0:10]))* bonus_as_list[0] /10000))\n",
    "    print(pViegoList)\n",
    "    \n",
    "    wViegoCD = wViego.find(\"div\",{\"class\" : \"pi-data-value pi-font\"}).text # W cd\n",
    "    \n",
    "    def somme(liste):\n",
    "        _somme = 0\n",
    "        for i in range(len(pViegoList)):\n",
    "            _somme = _somme + float(pViegoList[i])\n",
    "        return _somme\n",
    "     \n",
    "    print(somme(pViegoList))\n",
    "    pViegoList.append(0) \n",
    "    pViegoList.append(0) \n",
    "    pViegoList.append(0) \n",
    "    pViegoList.append(0) \n",
    "    pViegoList.append(0) \n",
    "    pViegoList.append(0) \n",
    "    pViegoList.append(0) \n",
    "    pViegoList.append(0)\n",
    "    pViegoList.append(0) \n",
    "    pViegoList.append(0) \n",
    "    pViegoList.append(0) \n",
    "    pViegoList.append(0) \n",
    "    pViegoList.append(0) \n",
    "    pViegoList.append(0) \n",
    "    \n",
    "except AttributeError:\n",
    "    print(\"error\")\n",
    "\n",
    "wViegoRatio = str(int(re.sub(r'[^0-9.,]','',re.search(r'\\(([^)]+)\\)', wViego.find(\"dd\").text).group(1) if re.search(r'\\(([^)]+)\\)', wViego.find(\"dd\").text) else None))/100) + \"AP\"\n",
    "wViegoDmg = list(map(int,re.sub(r'\\([^)]+\\)', '', wViego.find(\"dd\").text).split(\"/\")))\n",
    "print(wViegoDmg)\n",
    "print(wViegoCD)\n",
    "print(wViegoRatio)"
   ]
  },
  {
   "cell_type": "code",
   "execution_count": 188,
   "id": "8a3a8bea-201f-40e4-8389-69660ee87214",
   "metadata": {},
   "outputs": [],
   "source": [
    "# q w e - q - q - r - q - e -q -e -r -e  -w  -e- w -r -w-w"
   ]
  },
  {
   "cell_type": "code",
   "execution_count": 189,
   "id": "4d1ef082",
   "metadata": {},
   "outputs": [
    {
     "name": "stdout",
     "output_type": "stream",
     "text": [
      "Cooldown\n",
      "\n",
      "[5.0, 4.5, 4.0, 3.5, 3.0]\n",
      "\n",
      "\n",
      "Bonus Damage Max/Min\n",
      "{'Bonus Physical Damage': \"2 / 3 / 4 / 5 / 6% of target's current health\", 'Minimum Bonus Damage': '10 / 15 / 20 / 25 / 30'}\n",
      "\n",
      "\n",
      "bonus damage 2\n",
      "['20% AD', '35% (+7%) AD', '(+ 15% AP)', '(+ 26.25% (+5.25%) AP)']\n",
      "\n",
      "Physical Damage Table:\n",
      "['15 / 30 / 45 / 60 / 75', '(+ 70% AD)', '', '×', '(1 + (100%\\xa0+0%) critical strike chance)']\n"
     ]
    }
   ],
   "source": [
    "\n",
    "def find_element_by_label(label, class_name):\n",
    "    if html is None:\n",
    "        return None\n",
    "\n",
    "    balise_h3 = html.find('h3', class_='pi-data-label {}'.format(class_name), string=label)\n",
    "\n",
    "    if balise_h3:\n",
    "        balise_suivante = balise_h3.find_next_sibling()\n",
    "\n",
    "        if balise_suivante:\n",
    "            return balise_suivante.text.strip()\n",
    "\n",
    "\n",
    "def get_cooldown_value():\n",
    "    return find_element_by_label('COOLDOWN:', 'pi-secondary-font')\n",
    "\n",
    "def Bonus_Damage():\n",
    "    stats_div = html.find('div', {'style': 'padding: 0 7px'})\n",
    "\n",
    "    if stats_div:\n",
    "        stats_dl_list = stats_div.find_all('dl', class_='skill-tabs')\n",
    "        stats = {}\n",
    "\n",
    "        for stats_dl in stats_dl_list:\n",
    "            dt = stats_dl.find('dt')\n",
    "            dd = stats_dl.find('dd')\n",
    "\n",
    "            if dt and dd:\n",
    "                label = dt.text.strip().replace(':', '')\n",
    "                value = dd.text.strip()\n",
    "                stats[label] = value \n",
    "        return stats\n",
    "\n",
    "    return None\n",
    "\n",
    "def format_to_list(chaine):\n",
    "    nombres = []\n",
    "    nombre_temporaire = \"\"\n",
    "    est_dans_nombre = False\n",
    "\n",
    "    for caractere in chaine:\n",
    "        if caractere.isdigit() or caractere == '.':\n",
    "            nombre_temporaire += caractere\n",
    "            est_dans_nombre = True\n",
    "        elif est_dans_nombre:\n",
    "            nombres.append(float(nombre_temporaire))\n",
    "            nombre_temporaire = \"\"\n",
    "            est_dans_nombre = False\n",
    "\n",
    "    if est_dans_nombre:\n",
    "        nombres.append(float(nombre_temporaire))\n",
    "\n",
    "    return nombres\n",
    "\n",
    "'''\n",
    "extrait le text sans balise\n",
    "'''\n",
    "def extract_text_without_tags(element):\n",
    "    \"\"\"\n",
    "    Extract text content from HTML without any tags.\n",
    "    \"\"\"\n",
    "    result = []\n",
    "    for item in element.children:\n",
    "        if isinstance(item, str):\n",
    "            if item != \"\\n\":\n",
    "                result.append(item)\n",
    "        else:\n",
    "            result += html.extract_text_without_tags(item)\n",
    "\n",
    "    return result\n",
    "\n",
    "def get_divs_above_img(img_alt_text):\n",
    "    img_tag = html.find('img', alt=img_alt_text)\n",
    "\n",
    "    if img_tag:\n",
    "        parent_div = img_tag.find_parent('div')\n",
    "        divs_above = parent_div.find_all_previous('div', limit=1)\n",
    "\n",
    "        return divs_above\n",
    "\n",
    "    return None\n",
    "def get_orange_and_blue_text(divs_above_img):\n",
    "    # color #7A6DFF bleu et orange\n",
    "    orange_and_blue_text = []\n",
    "\n",
    "    for div in divs_above_img:\n",
    "        orange_text = div.find_all('span', style=\"color:orange; white-space:normal\",limit=2)\n",
    "        blue_text = div.find_all('span', style=\"color: #7A6DFF; white-space:normal\")\n",
    "\n",
    "        for text in orange_text:\n",
    "            orange_and_blue_text.append(text.get_text(strip=True))\n",
    "\n",
    "        for text in blue_text:\n",
    "            orange_and_blue_text.append(text.get_text(strip=True))\n",
    "\n",
    "    return orange_and_blue_text\n",
    "\n",
    "def find_physical_damage_table():\n",
    "    physical_damage_span = html.find('span', {'class': 'template_lc'}, string='Physical Damage:')\n",
    "    if physical_damage_span:\n",
    "        table = physical_damage_span.find_previous('table')\n",
    "        dd_elements = table.find('dd', class_='')\n",
    "        dd_texts = [dd.get_text(strip=True) for dd in dd_elements]\n",
    "\n",
    "    return dd_texts\n",
    "\n",
    "def find_physical_damage_span():\n",
    "    return html.find('span', {'class': 'template_lc'}, string='Physical Damage:')\n",
    "\n",
    "# ancien main\n",
    "cooldown_value = get_cooldown_value()\n",
    "cooldown_value = format_to_list(cooldown_value)\n",
    "\n",
    "print(\"Cooldown\\n\")\n",
    "print(cooldown_value)\n",
    "print(\"\\n\")\n",
    "print(\"Bonus Damage Max/Min\")\n",
    "print(Bonus_Damage())\n",
    "print(\"\\n\")\n",
    "print(\"bonus damage 2\")\n",
    "img_alt_text = 'Blade of the Ruined King'\n",
    "divs_above_img = get_divs_above_img(img_alt_text)\n",
    "if divs_above_img:\n",
    "    orange_and_blue_text = get_orange_and_blue_text(divs_above_img)\n",
    "    print(orange_and_blue_text)\n",
    "physical_damage_table = find_physical_damage_table()\n",
    "if physical_damage_table:\n",
    "    print(\"\\nPhysical Damage Table:\")\n",
    "print(physical_damage_table)\n",
    "\n"
   ]
  },
  {
   "cell_type": "markdown",
   "id": "a0a08f9f-e262-4d77-a788-1288c61fbc89",
   "metadata": {},
   "source": [
    "## Ultime Viego  "
   ]
  },
  {
   "cell_type": "markdown",
   "id": "1b69ca77-7375-4ff2-9e87-2b49616e4f26",
   "metadata": {},
   "source": [
    "Ultime Cooldown "
   ]
  },
  {
   "cell_type": "code",
   "execution_count": 190,
   "id": "ff1eacba-edd1-4a57-a25a-58b37946b51b",
   "metadata": {},
   "outputs": [
    {
     "name": "stdout",
     "output_type": "stream",
     "text": [
      "COOLDOWN: 120 / 100 / 80\n"
     ]
    }
   ],
   "source": [
    "soup = BeautifulSoup(response.content, 'html.parser')\n",
    "\n",
    "ultime_cooldown = soup.find(\"div\", {'class': 'skill skill_r'})\n",
    "if ultime_cooldown:\n",
    "    ultime_cooldown_value = ultime_cooldown.find('div', {'class': 'pi-data-value pi-font'})\n",
    "    if ultime_cooldown_value:\n",
    "        ultime_cooldown_text = ultime_cooldown_value.text\n",
    "        print('COOLDOWN:', ultime_cooldown_text)\n",
    "    else:\n",
    "        print('Element \"pi-data-value pi-font\" non trouvé dans skill_r')\n",
    "else:\n",
    "    print('Element \"skill skill_r\" non trouvé dans la page')"
   ]
  },
  {
   "cell_type": "markdown",
   "id": "e557c08c-12e5-465e-b292-a9b592650476",
   "metadata": {},
   "source": [
    "Base attack during ultimate"
   ]
  },
  {
   "cell_type": "code",
   "execution_count": 191,
   "id": "41c66b70-1f0c-4729-b283-d27e37c60439",
   "metadata": {},
   "outputs": [],
   "source": [
    "soup = BeautifulSoup(response.content, 'html.parser')\n",
    "lr = soup.find(\"div\", {'class' : 'skill skill_r'})\n",
    "lr = lr.find('span', {'class' : 'pp-tooltip'})['data-displayformula']"
   ]
  },
  {
   "cell_type": "markdown",
   "id": "18e10993-3253-4e01-b26c-07ab4ec8d3ae",
   "metadata": {},
   "source": [
    "Physical Damage"
   ]
  },
  {
   "cell_type": "code",
   "execution_count": 192,
   "id": "7b955753-4e88-45fe-bb7f-ae4450861ed8",
   "metadata": {},
   "outputs": [],
   "source": [
    "soup = BeautifulSoup(response.content, 'html.parser')\n",
    "pdamage = soup.find(\"div\", {'class': 'skill skill_r'})\n",
    "pdamage = pdamage.find('div', {'style': 'grid-column-end: span 2; display:contents'})\n",
    "pdamage = pdamage.find('span', {'style': 'color: #1F995C; white-space:normal'})"
   ]
  },
  {
   "cell_type": "markdown",
   "id": "e781c8ae-e805-4aa2-9967-19c351c8f4f8",
   "metadata": {},
   "source": [
    "Clean data entries"
   ]
  },
  {
   "cell_type": "code",
   "execution_count": 193,
   "id": "798e369a-d133-4fa8-a383-b5c4553f2687",
   "metadata": {},
   "outputs": [],
   "source": [
    "#Divide string using (\n",
    "before_parenthese = re.match(r'^(.*?)\\(', pdamage.text).group(1) if re.match(r'^(.*?)\\(', pdamage.text) else None\n",
    "after_parenthese = re.search(r'\\(.*\\)', pdamage.text).group(0) if re.search(r'\\(.*\\)', pdamage.text) else None\n",
    "\n",
    "#Delete % in the first string, and split\n",
    "before_parenthese_without= re.sub(r'%', '', before_parenthese)\n",
    "R_missing_health_dmg = before_parenthese_without.split(\" / \")\n",
    "R_missing_health_dmg = [int(x)/100 for x in R_missing_health_dmg]\n",
    "R_missing_health_dmg = [float(x) for x in R_missing_health_dmg]\n",
    "\n",
    "#Delete % in the second string and add it to another col\n",
    "### after_parenthese = re.sub(r'%','',after_parenthese)"
   ]
  },
  {
   "cell_type": "markdown",
   "id": "5172cf7e-5e16-42d7-8b4d-5ba51ee0848f",
   "metadata": {},
   "source": [
    "Stat board"
   ]
  },
  {
   "cell_type": "code",
   "execution_count": 194,
   "id": "af27dce5-b6eb-4bd5-8235-4896860bc36d",
   "metadata": {
    "scrolled": true
   },
   "outputs": [
    {
     "data": {
      "text/html": [
       "<div>\n",
       "<style scoped>\n",
       "    .dataframe tbody tr th:only-of-type {\n",
       "        vertical-align: middle;\n",
       "    }\n",
       "\n",
       "    .dataframe tbody tr th {\n",
       "        vertical-align: top;\n",
       "    }\n",
       "\n",
       "    .dataframe thead th {\n",
       "        text-align: right;\n",
       "    }\n",
       "</style>\n",
       "<table border=\"1\" class=\"dataframe\">\n",
       "  <thead>\n",
       "    <tr style=\"text-align: right;\">\n",
       "      <th></th>\n",
       "      <th>Ultimate_cooldown</th>\n",
       "      <th>R_Physical_missing_health_damages</th>\n",
       "      <th>R_missing_health_ratio</th>\n",
       "      <th>R_auto_dmg</th>\n",
       "    </tr>\n",
       "  </thead>\n",
       "  <tbody>\n",
       "    <tr>\n",
       "      <th>1</th>\n",
       "      <td>120</td>\n",
       "      <td>0.12</td>\n",
       "      <td>0.0005BONUS_AD</td>\n",
       "      <td>120 x (1 + critical strike chance)</td>\n",
       "    </tr>\n",
       "    <tr>\n",
       "      <th>2</th>\n",
       "      <td>100</td>\n",
       "      <td>0.16</td>\n",
       "      <td>0.0005BONUS_AD</td>\n",
       "      <td>120 x (1 + critical strike chance)</td>\n",
       "    </tr>\n",
       "    <tr>\n",
       "      <th>3</th>\n",
       "      <td>80</td>\n",
       "      <td>0.20</td>\n",
       "      <td>0.0005BONUS_AD</td>\n",
       "      <td>120 x (1 + critical strike chance)</td>\n",
       "    </tr>\n",
       "  </tbody>\n",
       "</table>\n",
       "</div>"
      ],
      "text/plain": [
       "  Ultimate_cooldown  R_Physical_missing_health_damages R_missing_health_ratio  \\\n",
       "1               120                               0.12         0.0005BONUS_AD   \n",
       "2               100                               0.16         0.0005BONUS_AD   \n",
       "3                80                               0.20         0.0005BONUS_AD   \n",
       "\n",
       "                           R_auto_dmg  \n",
       "1  120 x (1 + critical strike chance)  \n",
       "2  120 x (1 + critical strike chance)  \n",
       "3  120 x (1 + critical strike chance)  "
      ]
     },
     "execution_count": 194,
     "metadata": {},
     "output_type": "execute_result"
    }
   ],
   "source": [
    "UltimeStat = pd.DataFrame(index=range(1,4))\n",
    "UltimeStat['Ultimate_cooldown'] = ultime_cooldown_text.split(\" / \")\n",
    "UltimeStat['R_Physical_missing_health_damages'] = R_missing_health_dmg\n",
    "UltimeStat['R_Physical_missing_health_damages'] = UltimeStat['R_Physical_missing_health_damages']\n",
    "UltimeStat['R_missing_health_ratio'] = str(int(re.sub(r'[^0-9.,]','',after_parenthese[0:9]))/10000) + \"BONUS_AD\"\n",
    "UltimeStat['R_auto_dmg'] = lr\n",
    "UltimeStat"
   ]
  },
  {
   "cell_type": "code",
   "execution_count": 195,
   "id": "ad11d4a4-4e8e-4460-8ec7-751ff42bd02c",
   "metadata": {},
   "outputs": [],
   "source": [
    "%run \"../class_champion.ipynb\""
   ]
  },
  {
   "cell_type": "code",
   "execution_count": 196,
   "id": "b9566704-f67b-4518-bd89-2af696776818",
   "metadata": {},
   "outputs": [
    {
     "name": "stderr",
     "output_type": "stream",
     "text": [
      "C:\\Users\\sever\\AppData\\Local\\Temp\\ipykernel_4428\\726276855.py:5: FutureWarning: ChainedAssignmentError: behaviour will change in pandas 3.0!\n",
      "You are setting values through chained assignment. Currently this works in certain cases, but when using Copy-on-Write (which will become the default behaviour in pandas 3.0) this will never work to update the original DataFrame or Series, because the intermediate object on which we are setting values will behave as a copy.\n",
      "A typical example is when you are setting values in a column of a DataFrame, like:\n",
      "\n",
      "df[\"col\"][row_indexer] = value\n",
      "\n",
      "Use `df.loc[row_indexer, \"col\"] = values` instead, to perform the assignment in a single step and ensure this keeps updating the original `df`.\n",
      "\n",
      "See the caveats in the documentation: https://pandas.pydata.org/pandas-docs/stable/user_guide/indexing.html#returning-a-view-versus-a-copy\n",
      "\n",
      "  viegoStat['rCD'][i] = UltimeStat['Ultimate_cooldown'][1]\n",
      "C:\\Users\\sever\\AppData\\Local\\Temp\\ipykernel_4428\\726276855.py:5: SettingWithCopyWarning: \n",
      "A value is trying to be set on a copy of a slice from a DataFrame\n",
      "\n",
      "See the caveats in the documentation: https://pandas.pydata.org/pandas-docs/stable/user_guide/indexing.html#returning-a-view-versus-a-copy\n",
      "  viegoStat['rCD'][i] = UltimeStat['Ultimate_cooldown'][1]\n",
      "C:\\Users\\sever\\AppData\\Local\\Temp\\ipykernel_4428\\726276855.py:5: FutureWarning: Setting an item of incompatible dtype is deprecated and will raise an error in a future version of pandas. Value '120' has dtype incompatible with int64, please explicitly cast to a compatible dtype first.\n",
      "  viegoStat['rCD'][i] = UltimeStat['Ultimate_cooldown'][1]\n",
      "C:\\Users\\sever\\AppData\\Local\\Temp\\ipykernel_4428\\726276855.py:6: FutureWarning: ChainedAssignmentError: behaviour will change in pandas 3.0!\n",
      "You are setting values through chained assignment. Currently this works in certain cases, but when using Copy-on-Write (which will become the default behaviour in pandas 3.0) this will never work to update the original DataFrame or Series, because the intermediate object on which we are setting values will behave as a copy.\n",
      "A typical example is when you are setting values in a column of a DataFrame, like:\n",
      "\n",
      "df[\"col\"][row_indexer] = value\n",
      "\n",
      "Use `df.loc[row_indexer, \"col\"] = values` instead, to perform the assignment in a single step and ensure this keeps updating the original `df`.\n",
      "\n",
      "See the caveats in the documentation: https://pandas.pydata.org/pandas-docs/stable/user_guide/indexing.html#returning-a-view-versus-a-copy\n",
      "\n",
      "  viegoStat['rMissingHealthDmg'][i] = str(UltimeStat['R_Physical_missing_health_damages'][1])+ \"+\" + UltimeStat['R_missing_health_ratio'][1] + \"TARGET_MISSING_HP\"\n",
      "C:\\Users\\sever\\AppData\\Local\\Temp\\ipykernel_4428\\726276855.py:6: SettingWithCopyWarning: \n",
      "A value is trying to be set on a copy of a slice from a DataFrame\n",
      "\n",
      "See the caveats in the documentation: https://pandas.pydata.org/pandas-docs/stable/user_guide/indexing.html#returning-a-view-versus-a-copy\n",
      "  viegoStat['rMissingHealthDmg'][i] = str(UltimeStat['R_Physical_missing_health_damages'][1])+ \"+\" + UltimeStat['R_missing_health_ratio'][1] + \"TARGET_MISSING_HP\"\n",
      "C:\\Users\\sever\\AppData\\Local\\Temp\\ipykernel_4428\\726276855.py:6: FutureWarning: Setting an item of incompatible dtype is deprecated and will raise an error in a future version of pandas. Value '0.12+0.0005BONUS_ADTARGET_MISSING_HP' has dtype incompatible with int64, please explicitly cast to a compatible dtype first.\n",
      "  viegoStat['rMissingHealthDmg'][i] = str(UltimeStat['R_Physical_missing_health_damages'][1])+ \"+\" + UltimeStat['R_missing_health_ratio'][1] + \"TARGET_MISSING_HP\"\n"
     ]
    },
    {
     "ename": "TypeError",
     "evalue": "sequence item 4: expected str instance, int found",
     "output_type": "error",
     "traceback": [
      "\u001b[1;31m---------------------------------------------------------------------------\u001b[0m",
      "\u001b[1;31mTypeError\u001b[0m                                 Traceback (most recent call last)",
      "Cell \u001b[1;32mIn[196], line 15\u001b[0m\n\u001b[0;32m     12\u001b[0m     viegoStat[\u001b[38;5;124m'\u001b[39m\u001b[38;5;124mrCD\u001b[39m\u001b[38;5;124m'\u001b[39m][i] \u001b[38;5;241m=\u001b[39m UltimeStat[\u001b[38;5;124m'\u001b[39m\u001b[38;5;124mUltimate_cooldown\u001b[39m\u001b[38;5;124m'\u001b[39m][\u001b[38;5;241m3\u001b[39m]\n\u001b[0;32m     13\u001b[0m     viegoStat[\u001b[38;5;124m'\u001b[39m\u001b[38;5;124mrMissingHealthDmg\u001b[39m\u001b[38;5;124m'\u001b[39m][i] \u001b[38;5;241m=\u001b[39m \u001b[38;5;28mstr\u001b[39m(UltimeStat[\u001b[38;5;124m'\u001b[39m\u001b[38;5;124mR_Physical_missing_health_damages\u001b[39m\u001b[38;5;124m'\u001b[39m][\u001b[38;5;241m3\u001b[39m])\u001b[38;5;241m+\u001b[39m \u001b[38;5;124m\"\u001b[39m\u001b[38;5;124m+\u001b[39m\u001b[38;5;124m\"\u001b[39m \u001b[38;5;241m+\u001b[39m UltimeStat[\u001b[38;5;124m'\u001b[39m\u001b[38;5;124mR_missing_health_ratio\u001b[39m\u001b[38;5;124m'\u001b[39m][\u001b[38;5;241m3\u001b[39m] \u001b[38;5;241m+\u001b[39m \u001b[38;5;124m\"\u001b[39m\u001b[38;5;124mTARGET_MISSING_HP\u001b[39m\u001b[38;5;124m\"\u001b[39m\n\u001b[1;32m---> 15\u001b[0m viegoStat[\u001b[38;5;124m'\u001b[39m\u001b[38;5;124mpassive\u001b[39m\u001b[38;5;124m'\u001b[39m] \u001b[38;5;241m=\u001b[39m \u001b[38;5;124;43m\"\u001b[39;49m\u001b[38;5;124;43m+\u001b[39;49m\u001b[38;5;124;43m\"\u001b[39;49m\u001b[38;5;241;43m.\u001b[39;49m\u001b[43mjoin\u001b[49m\u001b[43m(\u001b[49m\u001b[43mpViegoList\u001b[49m\u001b[43m)\u001b[49m\n\u001b[0;32m     16\u001b[0m viegoStat[\u001b[38;5;124m'\u001b[39m\u001b[38;5;124mwCD\u001b[39m\u001b[38;5;124m'\u001b[39m] \u001b[38;5;241m=\u001b[39m wViegoCD\n\u001b[0;32m     18\u001b[0m \u001b[38;5;66;03m#Viego Wdmg + ratio\u001b[39;00m\n\u001b[0;32m     19\u001b[0m \u001b[38;5;66;03m#qdmg + ratio\u001b[39;00m\n\u001b[0;32m     20\u001b[0m \u001b[38;5;66;03m#qcd\u001b[39;00m\n\u001b[0;32m     21\u001b[0m \u001b[38;5;66;03m#r cd\u001b[39;00m\n\u001b[0;32m     22\u001b[0m \u001b[38;5;66;03m#rdmg + ratio (autre code)\u001b[39;00m\n",
      "\u001b[1;31mTypeError\u001b[0m: sequence item 4: expected str instance, int found"
     ]
    }
   ],
   "source": [
    "viegoStat['rCD'] = 0\n",
    "viegoStat['rMissingHealthDmg'] = 0\n",
    "viegoStat['rAutoDmg'] = 0\n",
    "for i in range (6,11):\n",
    "    viegoStat['rCD'][i] = UltimeStat['Ultimate_cooldown'][1]\n",
    "    viegoStat['rMissingHealthDmg'][i] = str(UltimeStat['R_Physical_missing_health_damages'][1])+ \"+\" + UltimeStat['R_missing_health_ratio'][1] + \"TARGET_MISSING_HP\"\n",
    "for i in range (11,16):\n",
    "    viegoStat['rCD'][i] = UltimeStat['Ultimate_cooldown'][2]\n",
    "    viegoStat['rMissingHealthDmg'][i] = str(UltimeStat['R_Physical_missing_health_damages'][2])+ \"+\" + UltimeStat['R_missing_health_ratio'][2] + \"TARGET_MISSING_HP\"\n",
    "\n",
    "for i in range  (16,19):\n",
    "    viegoStat['rCD'][i] = UltimeStat['Ultimate_cooldown'][3]\n",
    "    viegoStat['rMissingHealthDmg'][i] = str(UltimeStat['R_Physical_missing_health_damages'][3])+ \"+\" + UltimeStat['R_missing_health_ratio'][3] + \"TARGET_MISSING_HP\"\n",
    "\n",
    "viegoStat['passive'] = \"+\".join(pViegoList)\n",
    "viegoStat['wCD'] = wViegoCD\n",
    "\n",
    "#Viego Wdmg + ratio\n",
    "#qdmg + ratio\n",
    "#qcd\n",
    "#r cd\n",
    "#rdmg + ratio (autre code)\n",
    "\n",
    "viegoBase = Champion(\"viego\",viegoStat)"
   ]
  },
  {
   "cell_type": "code",
   "execution_count": null,
   "id": "99d7255d-b977-49b2-b2ba-2c0937d60f5c",
   "metadata": {},
   "outputs": [],
   "source": [
    "print(viegoBase)"
   ]
  },
  {
   "cell_type": "code",
   "execution_count": null,
   "id": "6be5bedd-663d-4b65-96b9-1c1695e0c0b4",
   "metadata": {},
   "outputs": [],
   "source": []
  }
 ],
 "metadata": {
  "kernelspec": {
   "display_name": "Python 3 (ipykernel)",
   "language": "python",
   "name": "python3"
  },
  "language_info": {
   "codemirror_mode": {
    "name": "ipython",
    "version": 3
   },
   "file_extension": ".py",
   "mimetype": "text/x-python",
   "name": "python",
   "nbconvert_exporter": "python",
   "pygments_lexer": "ipython3",
   "version": "3.12.2"
  }
 },
 "nbformat": 4,
 "nbformat_minor": 5
}
