<<<<<<< HEAD
{
 "cells": [
  {
   "cell_type": "markdown",
   "id": "19b15672-a7e0-465e-be6e-a2d90035e2ff",
   "metadata": {},
   "source": [
    "# Web scraping stat Viego"
   ]
  },
  {
   "cell_type": "code",
   "execution_count": 57,
   "id": "9aa73783-2731-419c-9039-e38d04ed71db",
   "metadata": {},
   "outputs": [],
   "source": [
    "import pandas as pd\n",
    "import requests\n",
    "from bs4 import BeautifulSoup\n",
    "import re"
   ]
  },
  {
   "cell_type": "code",
   "execution_count": 58,
   "id": "c66e2576-bee8-455a-a234-fcb7a7fd9614",
   "metadata": {},
   "outputs": [
    {
     "data": {
      "text/plain": [
       "'https://leagueoflegends.fandom.com/wiki/Viego/LoL'"
      ]
     },
     "execution_count": 58,
     "metadata": {},
     "output_type": "execute_result"
    }
   ],
   "source": [
    "url = \"https://leagueoflegends.fandom.com/wiki/Viego/LoL\"\n",
    "url"
   ]
  },
  {
   "cell_type": "markdown",
   "id": "e817ef56-8cd8-4a48-9fbd-047796347c1a",
   "metadata": {},
   "source": [
    "*Statistic growth = base+ (perlvl) x (n-1) x (0.7025 + 0.0175 x (n-1))*"
   ]
  },
  {
   "cell_type": "code",
   "execution_count": 59,
   "id": "911a39c9-1734-4bff-ad0d-358c0fb3a4c0",
   "metadata": {},
   "outputs": [],
   "source": [
    "response = requests.get(url)\n",
    "html = BeautifulSoup(response.text, \"html.parser\")"
   ]
  },
  {
   "cell_type": "code",
   "execution_count": 60,
   "id": "877e9988-ec36-4c31-8afa-d2defef9b1de",
   "metadata": {},
   "outputs": [],
   "source": [
    "def findSpan(typeTag : str,  libTag : str):\n",
    "    return html.find(\"span\", {typeTag : libTag})"
   ]
  },
  {
   "cell_type": "code",
   "execution_count": 61,
   "id": "c6a25e9e-b3d2-4607-983f-1f0c068894d2",
   "metadata": {},
   "outputs": [],
   "source": [
    "hp = findSpan(\"id\",\"Health_Viego\")\n",
    "hp_lvl = findSpan(\"id\",\"Health_Viego_lvl\")\n",
    "hp_list = [(float(hp.text) + float(hp_lvl.text) * (n-1) *(0.7025 +0.0175 * (n-1))) for n in range(1,19)]"
   ]
  },
  {
   "cell_type": "code",
   "execution_count": 62,
   "id": "553b4eb4-6791-4133-b6f9-f5c185bfd5a5",
   "metadata": {},
   "outputs": [],
   "source": [
    "armor =  findSpan(\"id\",\"Armor_Viego\")\n",
    "armor_lvl = findSpan(\"id\",\"Armor_Viego_lvl\")\n",
    "armor_list = [(float(armor.text) + float(armor_lvl.text) * (n-1) *(0.7025 +0.0175 * (n-1))) for n in range(1,19)]"
   ]
  },
  {
   "cell_type": "code",
   "execution_count": 63,
   "id": "e4d27259-f8fa-4bef-b136-66f8def2cd66",
   "metadata": {},
   "outputs": [],
   "source": [
    "rm = findSpan(\"id\",\"MagicResist_Viego\")\n",
    "rm_lvl = findSpan(\"id\",\"MagicResist_Viego_lvl\")\n",
    "rm_list = [(float(rm.text) + float(rm_lvl.text) * (n-1) *(0.7025 +0.0175 * (n-1))) for n in range(1,19)]"
   ]
  },
  {
   "cell_type": "code",
   "execution_count": 64,
   "id": "16292a16-7f3b-45bc-8f53-95df7107ffe0",
   "metadata": {},
   "outputs": [],
   "source": [
    "ad = findSpan(\"id\",\"AttackDamage_Viego\")\n",
    "ad_lvl = findSpan(\"id\",\"AttackDamage_Viego_lvl\")\n",
    "ad_list = [(float(ad.text) + float(ad_lvl.text) * (n-1) *(0.7025 +0.0175 * (n-1))) for n in range(1,19)]"
   ]
  },
  {
   "cell_type": "code",
   "execution_count": 65,
   "id": "ec1ab48c-02a2-4757-b154-29a5339a72c9",
   "metadata": {},
   "outputs": [
    {
     "name": "stdout",
     "output_type": "stream",
     "text": [
      "0.658\n"
     ]
    }
   ],
   "source": [
    "attack_speed = html.findAll('div', {\"style\" : \"width: calc(1 / 2 * 100%);\"})\n",
    "attack_speed = attack_speed[10]\n",
    "attack_speed = float(re.sub(r'[^0-9.,]', '', attack_speed.text))\n",
    "print(attack_speed)"
   ]
  },
  {
   "cell_type": "code",
   "execution_count": 66,
   "id": "bdafbb58-8f8c-4f77-a647-c751d8f5d9da",
   "metadata": {},
   "outputs": [
    {
     "name": "stdout",
     "output_type": "stream",
     "text": [
      "0.025\n",
      "[0.0, 0.018, 0.036875000000000005, 0.05662500000000001, 0.07725, 0.09875, 0.12112500000000001, 0.14437500000000003, 0.1685, 0.19350000000000003, 0.21937500000000001, 0.24612500000000004, 0.27375000000000005, 0.30225, 0.33162500000000006, 0.36187500000000006, 0.393, 0.42500000000000004]\n"
     ]
    }
   ],
   "source": [
    "bonus_as_lvl = html.findAll('div', {\"style\" : \"width: calc(1 / 2 * 100%);\"})\n",
    "bonus_as_lvl = bonus_as_lvl[13]\n",
    "bonus_as_lvl = float(re.sub(r'[^0-9.,]', '', bonus_as_lvl.text))\n",
    "bonus_as_lvl /=100\n",
    "print(bonus_as_lvl)\n",
    "bonus_as_list = [ float(bonus_as_lvl) * (n-1) *(0.7025 +0.0175 * (n-1)) for n in range(1,19)]\n",
    "print(bonus_as_list)"
   ]
  },
  {
   "cell_type": "markdown",
   "id": "f1d27a4e-42bc-4caa-acd6-2a21e74e5731",
   "metadata": {},
   "source": [
    "RATIO = 0.658\n",
    "Formule total AS : *TOTAL = base + ratio*bonus"
   ]
  },
  {
   "cell_type": "code",
   "execution_count": 67,
   "id": "89c165f0-66a4-4f45-8d74-f9a2b1f36275",
   "metadata": {},
   "outputs": [],
   "source": [
    "ratio = 0.658"
   ]
  },
  {
   "cell_type": "code",
   "execution_count": 68,
   "id": "241ae126-6573-40a1-b711-fd6c15eaa76c",
   "metadata": {},
   "outputs": [
    {
     "name": "stdout",
     "output_type": "stream",
     "text": [
      "[0.658, 0.669844, 0.6822637500000001, 0.69525925, 0.7088305, 0.7229775, 0.7377002500000001, 0.75299875, 0.768873, 0.785323, 0.80234875, 0.8199502500000001, 0.8381275000000001, 0.8568805, 0.87620925, 0.89611375, 0.9165940000000001, 0.9376500000000001]\n"
     ]
    }
   ],
   "source": [
    "as_list = [ attack_speed + ratio*bonus_as_list[n]  for n in range(0,18)]\n",
    "print(as_list)"
   ]
  },
  {
   "cell_type": "code",
   "execution_count": 69,
   "id": "7a028168-867b-4ab0-9bc6-e845ca6d58c6",
   "metadata": {},
   "outputs": [
    {
     "data": {
      "text/html": [
       "<div>\n",
       "<style scoped>\n",
       "    .dataframe tbody tr th:only-of-type {\n",
       "        vertical-align: middle;\n",
       "    }\n",
       "\n",
       "    .dataframe tbody tr th {\n",
       "        vertical-align: top;\n",
       "    }\n",
       "\n",
       "    .dataframe thead th {\n",
       "        text-align: right;\n",
       "    }\n",
       "</style>\n",
       "<table border=\"1\" class=\"dataframe\">\n",
       "  <thead>\n",
       "    <tr style=\"text-align: right;\">\n",
       "      <th></th>\n",
       "      <th>hp</th>\n",
       "      <th>armor</th>\n",
       "      <th>magic_res</th>\n",
       "      <th>ad</th>\n",
       "      <th>as</th>\n",
       "    </tr>\n",
       "  </thead>\n",
       "  <tbody>\n",
       "    <tr>\n",
       "      <th>1</th>\n",
       "      <td>630.000</td>\n",
       "      <td>34.000</td>\n",
       "      <td>32.00000</td>\n",
       "      <td>57.0000</td>\n",
       "      <td>0.000000</td>\n",
       "    </tr>\n",
       "    <tr>\n",
       "      <th>2</th>\n",
       "      <td>708.480</td>\n",
       "      <td>37.744</td>\n",
       "      <td>33.47600</td>\n",
       "      <td>59.5200</td>\n",
       "      <td>0.018000</td>\n",
       "    </tr>\n",
       "    <tr>\n",
       "      <th>3</th>\n",
       "      <td>790.775</td>\n",
       "      <td>41.670</td>\n",
       "      <td>35.02375</td>\n",
       "      <td>62.1625</td>\n",
       "      <td>0.036875</td>\n",
       "    </tr>\n",
       "    <tr>\n",
       "      <th>4</th>\n",
       "      <td>876.885</td>\n",
       "      <td>45.778</td>\n",
       "      <td>36.64325</td>\n",
       "      <td>64.9275</td>\n",
       "      <td>0.056625</td>\n",
       "    </tr>\n",
       "    <tr>\n",
       "      <th>5</th>\n",
       "      <td>966.810</td>\n",
       "      <td>50.068</td>\n",
       "      <td>38.33450</td>\n",
       "      <td>67.8150</td>\n",
       "      <td>0.077250</td>\n",
       "    </tr>\n",
       "    <tr>\n",
       "      <th>6</th>\n",
       "      <td>1060.550</td>\n",
       "      <td>54.540</td>\n",
       "      <td>40.09750</td>\n",
       "      <td>70.8250</td>\n",
       "      <td>0.098750</td>\n",
       "    </tr>\n",
       "    <tr>\n",
       "      <th>7</th>\n",
       "      <td>1158.105</td>\n",
       "      <td>59.194</td>\n",
       "      <td>41.93225</td>\n",
       "      <td>73.9575</td>\n",
       "      <td>0.121125</td>\n",
       "    </tr>\n",
       "    <tr>\n",
       "      <th>8</th>\n",
       "      <td>1259.475</td>\n",
       "      <td>64.030</td>\n",
       "      <td>43.83875</td>\n",
       "      <td>77.2125</td>\n",
       "      <td>0.144375</td>\n",
       "    </tr>\n",
       "    <tr>\n",
       "      <th>9</th>\n",
       "      <td>1364.660</td>\n",
       "      <td>69.048</td>\n",
       "      <td>45.81700</td>\n",
       "      <td>80.5900</td>\n",
       "      <td>0.168500</td>\n",
       "    </tr>\n",
       "    <tr>\n",
       "      <th>10</th>\n",
       "      <td>1473.660</td>\n",
       "      <td>74.248</td>\n",
       "      <td>47.86700</td>\n",
       "      <td>84.0900</td>\n",
       "      <td>0.193500</td>\n",
       "    </tr>\n",
       "    <tr>\n",
       "      <th>11</th>\n",
       "      <td>1586.475</td>\n",
       "      <td>79.630</td>\n",
       "      <td>49.98875</td>\n",
       "      <td>87.7125</td>\n",
       "      <td>0.219375</td>\n",
       "    </tr>\n",
       "    <tr>\n",
       "      <th>12</th>\n",
       "      <td>1703.105</td>\n",
       "      <td>85.194</td>\n",
       "      <td>52.18225</td>\n",
       "      <td>91.4575</td>\n",
       "      <td>0.246125</td>\n",
       "    </tr>\n",
       "    <tr>\n",
       "      <th>13</th>\n",
       "      <td>1823.550</td>\n",
       "      <td>90.940</td>\n",
       "      <td>54.44750</td>\n",
       "      <td>95.3250</td>\n",
       "      <td>0.273750</td>\n",
       "    </tr>\n",
       "    <tr>\n",
       "      <th>14</th>\n",
       "      <td>1947.810</td>\n",
       "      <td>96.868</td>\n",
       "      <td>56.78450</td>\n",
       "      <td>99.3150</td>\n",
       "      <td>0.302250</td>\n",
       "    </tr>\n",
       "    <tr>\n",
       "      <th>15</th>\n",
       "      <td>2075.885</td>\n",
       "      <td>102.978</td>\n",
       "      <td>59.19325</td>\n",
       "      <td>103.4275</td>\n",
       "      <td>0.331625</td>\n",
       "    </tr>\n",
       "    <tr>\n",
       "      <th>16</th>\n",
       "      <td>2207.775</td>\n",
       "      <td>109.270</td>\n",
       "      <td>61.67375</td>\n",
       "      <td>107.6625</td>\n",
       "      <td>0.361875</td>\n",
       "    </tr>\n",
       "    <tr>\n",
       "      <th>17</th>\n",
       "      <td>2343.480</td>\n",
       "      <td>115.744</td>\n",
       "      <td>64.22600</td>\n",
       "      <td>112.0200</td>\n",
       "      <td>0.393000</td>\n",
       "    </tr>\n",
       "    <tr>\n",
       "      <th>18</th>\n",
       "      <td>2483.000</td>\n",
       "      <td>122.400</td>\n",
       "      <td>66.85000</td>\n",
       "      <td>116.5000</td>\n",
       "      <td>0.425000</td>\n",
       "    </tr>\n",
       "  </tbody>\n",
       "</table>\n",
       "</div>"
      ],
      "text/plain": [
       "          hp    armor  magic_res        ad        as\n",
       "1    630.000   34.000   32.00000   57.0000  0.000000\n",
       "2    708.480   37.744   33.47600   59.5200  0.018000\n",
       "3    790.775   41.670   35.02375   62.1625  0.036875\n",
       "4    876.885   45.778   36.64325   64.9275  0.056625\n",
       "5    966.810   50.068   38.33450   67.8150  0.077250\n",
       "6   1060.550   54.540   40.09750   70.8250  0.098750\n",
       "7   1158.105   59.194   41.93225   73.9575  0.121125\n",
       "8   1259.475   64.030   43.83875   77.2125  0.144375\n",
       "9   1364.660   69.048   45.81700   80.5900  0.168500\n",
       "10  1473.660   74.248   47.86700   84.0900  0.193500\n",
       "11  1586.475   79.630   49.98875   87.7125  0.219375\n",
       "12  1703.105   85.194   52.18225   91.4575  0.246125\n",
       "13  1823.550   90.940   54.44750   95.3250  0.273750\n",
       "14  1947.810   96.868   56.78450   99.3150  0.302250\n",
       "15  2075.885  102.978   59.19325  103.4275  0.331625\n",
       "16  2207.775  109.270   61.67375  107.6625  0.361875\n",
       "17  2343.480  115.744   64.22600  112.0200  0.393000\n",
       "18  2483.000  122.400   66.85000  116.5000  0.425000"
      ]
     },
     "execution_count": 69,
     "metadata": {},
     "output_type": "execute_result"
    }
   ],
   "source": [
    "viegoStat = pd.DataFrame(index=range(1,19),columns=['hp','armor','magic_res','ad','as'])\n",
    "viegoStat['hp'] = hp_list\n",
    "viegoStat['armor'] = armor_list\n",
    "viegoStat['magic_res'] = rm_list\n",
    "viegoStat['ad'] = ad_list\n",
    "viegoStat['as'] = bonus_as_list #Ici c'est le bonus d'attaque speed, il faut additionner les autres bonus\n",
    "viegoStat"
   ]
  },
  {
   "cell_type": "code",
   "execution_count": 70,
   "id": "ad11d4a4-4e8e-4460-8ec7-751ff42bd02c",
   "metadata": {},
   "outputs": [],
   "source": [
    "%run \"../class_champion.ipynb\""
   ]
  },
  {
   "cell_type": "code",
   "execution_count": 71,
   "id": "b9566704-f67b-4518-bd89-2af696776818",
   "metadata": {},
   "outputs": [],
   "source": [
    "viegoBase = Champion(\"viego\",viegoStat)"
   ]
  },
  {
   "cell_type": "code",
   "execution_count": 72,
   "id": "99d7255d-b977-49b2-b2ba-2c0937d60f5c",
   "metadata": {},
   "outputs": [
    {
     "name": "stdout",
     "output_type": "stream",
     "text": [
      "viego\n",
      "          hp    armor  magic_res        ad        as\n",
      "1    630.000   34.000   32.00000   57.0000  0.000000\n",
      "2    708.480   37.744   33.47600   59.5200  0.018000\n",
      "3    790.775   41.670   35.02375   62.1625  0.036875\n",
      "4    876.885   45.778   36.64325   64.9275  0.056625\n",
      "5    966.810   50.068   38.33450   67.8150  0.077250\n",
      "6   1060.550   54.540   40.09750   70.8250  0.098750\n",
      "7   1158.105   59.194   41.93225   73.9575  0.121125\n",
      "8   1259.475   64.030   43.83875   77.2125  0.144375\n",
      "9   1364.660   69.048   45.81700   80.5900  0.168500\n",
      "10  1473.660   74.248   47.86700   84.0900  0.193500\n",
      "11  1586.475   79.630   49.98875   87.7125  0.219375\n",
      "12  1703.105   85.194   52.18225   91.4575  0.246125\n",
      "13  1823.550   90.940   54.44750   95.3250  0.273750\n",
      "14  1947.810   96.868   56.78450   99.3150  0.302250\n",
      "15  2075.885  102.978   59.19325  103.4275  0.331625\n",
      "16  2207.775  109.270   61.67375  107.6625  0.361875\n",
      "17  2343.480  115.744   64.22600  112.0200  0.393000\n",
      "18  2483.000  122.400   66.85000  116.5000  0.425000\n"
     ]
    }
   ],
   "source": [
    "print(viegoBase)"
   ]
  },
  {
   "cell_type": "code",
   "execution_count": null,
   "id": "242faca5-6d88-4b7a-a0e8-b7971749fd96",
   "metadata": {},
   "outputs": [],
   "source": []
  },
  {
   "cell_type": "code",
   "execution_count": 73,
   "id": "5db20a7d",
   "metadata": {},
   "outputs": [],
   "source": [
    "def find_element_by_label(label, class_name):\n",
    "    if html is None:\n",
    "        return None\n",
    "\n",
    "    balise_h3 = html.find('h3', class_='pi-data-label {}'.format(class_name), string=label)\n",
    "\n",
    "    if balise_h3:\n",
    "        balise_suivante = balise_h3.find_next_sibling()\n",
    "\n",
    "        if balise_suivante:\n",
    "            return balise_suivante.text.strip()\n",
    "\n",
    "\n",
    "def get_cooldown_value():\n",
    "    return find_element_by_label('COOLDOWN:', 'pi-secondary-font')"
   ]
  },
  {
   "cell_type": "code",
   "execution_count": 74,
   "id": "bff62605",
   "metadata": {},
   "outputs": [],
   "source": [
    "def Bonus_Damage():\n",
    "    stats_div = html.find('div', {'style': 'padding: 0 7px'})\n",
    "\n",
    "    if stats_div:\n",
    "        stats_dl_list = stats_div.find_all('dl', class_='skill-tabs')\n",
    "        stats = {}\n",
    "\n",
    "        for stats_dl in stats_dl_list:\n",
    "            dt = stats_dl.find('dt')\n",
    "            dd = stats_dl.find('dd')\n",
    "\n",
    "            if dt and dd:\n",
    "                label = dt.text.strip().replace(':', '')\n",
    "                value = dd.text.strip()\n",
    "                stats[label] = value\n",
    "        return stats\n",
    "\n",
    "    return None"
   ]
  },
  {
   "cell_type": "code",
   "execution_count": 75,
   "id": "1da4e2d7",
   "metadata": {},
   "outputs": [],
   "source": [
    "\n",
    "def format_to_list(chaine):\n",
    "    nombres = []\n",
    "    nombre_temporaire = \"\"\n",
    "    est_dans_nombre = False\n",
    "\n",
    "    for caractere in chaine:\n",
    "        if caractere.isdigit() or caractere == '.':\n",
    "            nombre_temporaire += caractere\n",
    "            est_dans_nombre = True\n",
    "        elif est_dans_nombre:\n",
    "            nombres.append(float(nombre_temporaire))\n",
    "            nombre_temporaire = \"\"\n",
    "            est_dans_nombre = False\n",
    "\n",
    "    if est_dans_nombre:\n",
    "        nombres.append(float(nombre_temporaire))\n",
    "\n",
    "    return nombres"
   ]
  },
  {
   "cell_type": "code",
   "execution_count": 76,
   "id": "cf074af8",
   "metadata": {},
   "outputs": [],
   "source": [
    "\n",
    "def extract_text_without_tags(element):\n",
    "    result = []\n",
    "    for item in element.children:\n",
    "        if isinstance(item, str):\n",
    "            if item != \"\\n\":\n",
    "                result.append(item)\n",
    "        else:\n",
    "            result += html.extract_text_without_tags(item)\n",
    "\n",
    "    return result"
   ]
  },
  {
   "cell_type": "code",
   "execution_count": 77,
   "id": "65b76ffe",
   "metadata": {},
   "outputs": [],
   "source": [
    "def get_divs_above_img(img_alt_text):\n",
    "    img_tag = html.find('img', alt=img_alt_text)\n",
    "\n",
    "    if img_tag:\n",
    "        parent_div = img_tag.find_parent('div')\n",
    "        divs_above = parent_div.find_all_previous('div', limit=1)\n",
    "\n",
    "        return divs_above\n",
    "\n",
    "    return None"
   ]
  },
  {
   "cell_type": "code",
   "execution_count": 78,
   "id": "ae82f1b7",
   "metadata": {},
   "outputs": [],
   "source": [
    "\n",
    "def get_orange_and_blue_text(divs_above_img):\n",
    "    # color #7A6DFF bleu et orange\n",
    "    orange_and_blue_text = []\n",
    "\n",
    "    for div in divs_above_img:\n",
    "        orange_text = div.find_all('span', style=\"color:orange; white-space:normal\",limit=2)\n",
    "        blue_text = div.find_all('span', style=\"color: #7A6DFF; white-space:normal\")\n",
    "\n",
    "        for text in orange_text:\n",
    "            orange_and_blue_text.append(text.get_text(strip=True))\n",
    "\n",
    "        for text in blue_text:\n",
    "            orange_and_blue_text.append(text.get_text(strip=True))\n",
    "\n",
    "    return orange_and_blue_text"
   ]
  },
  {
   "cell_type": "code",
   "execution_count": 79,
   "id": "ec10cb30",
   "metadata": {},
   "outputs": [],
   "source": [
    "def find_physical_damage_table():\n",
    "    physical_damage_span = html.find('span', {'class': 'template_lc'}, string='Physical Damage:')\n",
    "    if physical_damage_span:\n",
    "        table = physical_damage_span.find_previous('table')\n",
    "        dd_elements = table.find('dd', class_='')\n",
    "        dd_texts = [dd.get_text(strip=True) for dd in dd_elements]\n",
    "\n",
    "    return dd_texts"
   ]
  },
  {
   "cell_type": "code",
   "execution_count": 80,
   "id": "39c9f65c",
   "metadata": {},
   "outputs": [],
   "source": [
    "def find_physical_damage_span():\n",
    "    return html.find('span', {'class': 'template_lc'}, string='Physical Damage:')"
   ]
  },
  {
   "cell_type": "code",
   "execution_count": 81,
   "id": "d613de3c",
   "metadata": {},
   "outputs": [],
   "source": [
    "def replace_in_list(list,remplace):\n",
    "    cleanliste = []\n",
    "    for clean in list:\n",
    "        clean = clean.replace(remplace,\"\")\n",
    "        cleanliste.append(clean)\n",
    "\n",
    "    return cleanliste"
   ]
  },
  {
   "cell_type": "code",
   "execution_count": 82,
   "id": "3375e0c1",
   "metadata": {},
   "outputs": [],
   "source": [
    "def split_list(list):\n",
    "    listea, listeb = [],[]\n",
    "    for i in range(0,len(list)):\n",
    "        if i % 2 == 0:\n",
    "            listea.append(list[i])\n",
    "        else:\n",
    "            listeb.append(list[i])\n",
    "            \n",
    "    return listea, listeb"
   ]
  },
  {
   "cell_type": "code",
   "execution_count": 83,
   "id": "bfcd982c",
   "metadata": {},
   "outputs": [],
   "source": [
    "def liste_to_format(liste):\n",
    "    count =0\n",
    "    for element in liste:\n",
    "        if element <= 0:\n",
    "            element /= 100\n",
    "            liste[count] = element\n",
    "            count+=1\n",
    "    return liste"
   ]
  },
  {
   "cell_type": "code",
   "execution_count": 84,
   "id": "4d1ef082",
   "metadata": {},
   "outputs": [
    {
     "name": "stdout",
     "output_type": "stream",
     "text": [
      "Cooldown\n",
      "\n",
      "[5.0, 4.5, 4.0, 3.5, 3.0]\n",
      "\n",
      "\n",
      "Bonus Damage Max/Min\n",
      "{'Bonus Physical Damage': \"2 / 3 / 4 / 5 / 6% of target's current health\", 'Minimum Bonus Damage': '10 / 15 / 20 / 25 / 30'}\n",
      "\n",
      "\n",
      "bonus damage 2\n",
      "['20 AD', '35 +7 AD', '+ 15 AP', '+ 26.25 +5.25 AP']\n",
      "['20 AD', '+ 15 AP']\n",
      "------------------------------------------------\n",
      "['35 +7 AD', '+ 26.25 +5.25 AP']\n",
      "\n",
      "Physical Damage Table:\n",
      "['15 / 30 / 45 / 60 / 75', '(+ 70% AD)', '', '×', '(1 + (100%\\xa0+0%) critical strike chance)']\n"
     ]
    }
   ],
   "source": [
    "\n",
    "# ancien main\n",
    "cooldown_value = get_cooldown_value()\n",
    "cooldown_value = format_to_list(cooldown_value)\n",
    "\n",
    "print(\"Cooldown\\n\")\n",
    "print(cooldown_value)\n",
    "print(\"\\n\")\n",
    "print(\"Bonus Damage Max/Min\")\n",
    "print(Bonus_Damage())\n",
    "print(\"\\n\")\n",
    "print(\"bonus damage 2\")\n",
    "img_alt_text = 'Blade of the Ruined King'\n",
    "divs_above_img = get_divs_above_img(img_alt_text)\n",
    "if divs_above_img:\n",
    "    orange_and_blue_text = get_orange_and_blue_text(divs_above_img)\n",
    "trucchiant = [\"(\", \")\", \"'\", \", \",\"%\",\"/\"]\n",
    "for oui in trucchiant:\n",
    "    orange_and_blue_text = replace_in_list(orange_and_blue_text,oui)\n",
    "print(orange_and_blue_text)\n",
    "secondstrike , critique = split_list(orange_and_blue_text)\n",
    "#print(secondstrike,critique)\n",
    "print(secondstrike)\n",
    "print(\"------------------------------------------------\")\n",
    "print(critique)\n",
    "\n",
    "physical_damage_table = find_physical_damage_table()\n",
    "if physical_damage_table:\n",
    "    print(\"\\nPhysical Damage Table:\")\n",
    "print(physical_damage_table)\n",
    "\n"
   ]
  }
 ],
 "metadata": {
  "kernelspec": {
   "display_name": "Python 3 (ipykernel)",
   "language": "python",
   "name": "python3"
  },
  "language_info": {
   "codemirror_mode": {
    "name": "ipython",
    "version": 3
   },
   "file_extension": ".py",
   "mimetype": "text/x-python",
   "name": "python",
   "nbconvert_exporter": "python",
   "pygments_lexer": "ipython3",
   "version": "3.12.0"
  }
 },
 "nbformat": 4,
 "nbformat_minor": 5
}
=======
{
 "cells": [
  {
   "cell_type": "markdown",
   "id": "19b15672-a7e0-465e-be6e-a2d90035e2ff",
   "metadata": {},
   "source": [
    "# Web scraping stat Viego"
   ]
  },
  {
   "cell_type": "code",
   "execution_count": 118,
   "id": "9aa73783-2731-419c-9039-e38d04ed71db",
   "metadata": {},
   "outputs": [],
   "source": [
    "import pandas as pd\n",
    "import requests\n",
    "from bs4 import BeautifulSoup\n",
    "import re"
   ]
  },
  {
   "cell_type": "code",
   "execution_count": 119,
   "id": "c66e2576-bee8-455a-a234-fcb7a7fd9614",
   "metadata": {},
   "outputs": [
    {
     "data": {
      "text/plain": [
       "'https://leagueoflegends.fandom.com/wiki/Viego/LoL'"
      ]
     },
     "execution_count": 119,
     "metadata": {},
     "output_type": "execute_result"
    }
   ],
   "source": [
    "url = \"https://leagueoflegends.fandom.com/wiki/Viego/LoL\"\n",
    "url"
   ]
  },
  {
   "cell_type": "markdown",
   "id": "e817ef56-8cd8-4a48-9fbd-047796347c1a",
   "metadata": {},
   "source": [
    "*Statistic growth = base+ (perlvl) x (n-1) x (0.7025 + 0.0175 x (n-1))*"
   ]
  },
  {
   "cell_type": "code",
   "execution_count": 120,
   "id": "911a39c9-1734-4bff-ad0d-358c0fb3a4c0",
   "metadata": {},
   "outputs": [],
   "source": [
    "response = requests.get(url)\n",
    "html = BeautifulSoup(response.text, \"html.parser\")"
   ]
  },
  {
   "cell_type": "code",
   "execution_count": 121,
   "id": "877e9988-ec36-4c31-8afa-d2defef9b1de",
   "metadata": {},
   "outputs": [],
   "source": [
    "def findSpan(typeTag : str,  libTag : str):\n",
    "    return html.find(\"span\", {typeTag : libTag})"
   ]
  },
  {
   "cell_type": "code",
   "execution_count": 122,
   "id": "c6a25e9e-b3d2-4607-983f-1f0c068894d2",
   "metadata": {},
   "outputs": [],
   "source": [
    "hp = findSpan(\"id\",\"Health_Viego\")\n",
    "hp_lvl = findSpan(\"id\",\"Health_Viego_lvl\")\n",
    "hp_list = [(float(hp.text) + float(hp_lvl.text) * (n-1) *(0.7025 +0.0175 * (n-1))) for n in range(1,19)]"
   ]
  },
  {
   "cell_type": "code",
   "execution_count": 123,
   "id": "553b4eb4-6791-4133-b6f9-f5c185bfd5a5",
   "metadata": {},
   "outputs": [],
   "source": [
    "armor =  findSpan(\"id\",\"Armor_Viego\")\n",
    "armor_lvl = findSpan(\"id\",\"Armor_Viego_lvl\")\n",
    "armor_list = [(float(armor.text) + float(armor_lvl.text) * (n-1) *(0.7025 +0.0175 * (n-1))) for n in range(1,19)]"
   ]
  },
  {
   "cell_type": "code",
   "execution_count": 124,
   "id": "e4d27259-f8fa-4bef-b136-66f8def2cd66",
   "metadata": {},
   "outputs": [],
   "source": [
    "rm = findSpan(\"id\",\"MagicResist_Viego\")\n",
    "rm_lvl = findSpan(\"id\",\"MagicResist_Viego_lvl\")\n",
    "rm_list = [(float(rm.text) + float(rm_lvl.text) * (n-1) *(0.7025 +0.0175 * (n-1))) for n in range(1,19)]"
   ]
  },
  {
   "cell_type": "code",
   "execution_count": 125,
   "id": "16292a16-7f3b-45bc-8f53-95df7107ffe0",
   "metadata": {},
   "outputs": [],
   "source": [
    "ad = findSpan(\"id\",\"AttackDamage_Viego\")\n",
    "ad_lvl = findSpan(\"id\",\"AttackDamage_Viego_lvl\")\n",
    "ad_list = [(float(ad.text) + float(ad_lvl.text) * (n-1) *(0.7025 +0.0175 * (n-1))) for n in range(1,19)]"
   ]
  },
  {
   "cell_type": "code",
   "execution_count": 126,
   "id": "ec1ab48c-02a2-4757-b154-29a5339a72c9",
   "metadata": {},
   "outputs": [
    {
     "name": "stdout",
     "output_type": "stream",
     "text": [
      "0.658\n"
     ]
    }
   ],
   "source": [
    "attack_speed = html.findAll('div', {\"style\" : \"width: calc(1 / 2 * 100%);\"})\n",
    "attack_speed = attack_speed[10]\n",
    "attack_speed = float(re.sub(r'[^0-9.,]', '', attack_speed.text))\n",
    "print(attack_speed)"
   ]
  },
  {
   "cell_type": "code",
   "execution_count": 127,
   "id": "bdafbb58-8f8c-4f77-a647-c751d8f5d9da",
   "metadata": {},
   "outputs": [
    {
     "name": "stdout",
     "output_type": "stream",
     "text": [
      "0.025\n",
      "[0.0, 0.018, 0.036875000000000005, 0.05662500000000001, 0.07725, 0.09875, 0.12112500000000001, 0.14437500000000003, 0.1685, 0.19350000000000003, 0.21937500000000001, 0.24612500000000004, 0.27375000000000005, 0.30225, 0.33162500000000006, 0.36187500000000006, 0.393, 0.42500000000000004]\n"
     ]
    }
   ],
   "source": [
    "bonus_as_lvl = html.findAll('div', {\"style\" : \"width: calc(1 / 2 * 100%);\"})\n",
    "bonus_as_lvl = bonus_as_lvl[13]\n",
    "bonus_as_lvl = float(re.sub(r'[^0-9.,]', '', bonus_as_lvl.text))\n",
    "bonus_as_lvl /=100\n",
    "print(bonus_as_lvl)\n",
    "bonus_as_list = [ float(bonus_as_lvl) * (n-1) *(0.7025 +0.0175 * (n-1)) for n in range(1,19)]\n",
    "print(bonus_as_list)"
   ]
  },
  {
   "cell_type": "markdown",
   "id": "f1d27a4e-42bc-4caa-acd6-2a21e74e5731",
   "metadata": {},
   "source": [
    "RATIO = 0.658\n",
    "Formule total AS : *TOTAL = base + ratio*bonus"
   ]
  },
  {
   "cell_type": "code",
   "execution_count": 128,
   "id": "89c165f0-66a4-4f45-8d74-f9a2b1f36275",
   "metadata": {},
   "outputs": [],
   "source": [
    "ratio = 0.658"
   ]
  },
  {
   "cell_type": "code",
   "execution_count": 129,
   "id": "241ae126-6573-40a1-b711-fd6c15eaa76c",
   "metadata": {},
   "outputs": [
    {
     "name": "stdout",
     "output_type": "stream",
     "text": [
      "[0.658, 0.669844, 0.6822637500000001, 0.69525925, 0.7088305, 0.7229775, 0.7377002500000001, 0.75299875, 0.768873, 0.785323, 0.80234875, 0.8199502500000001, 0.8381275000000001, 0.8568805, 0.87620925, 0.89611375, 0.9165940000000001, 0.9376500000000001]\n"
     ]
    }
   ],
   "source": [
    "as_list = [ attack_speed + ratio*bonus_as_list[n]  for n in range(0,18)]\n",
    "print(as_list)"
   ]
  },
  {
   "cell_type": "code",
   "execution_count": 18,
   "id": "7a028168-867b-4ab0-9bc6-e845ca6d58c6",
   "metadata": {},
   "outputs": [
    {
     "data": {
      "text/html": [
       "<div>\n",
       "<style scoped>\n",
       "    .dataframe tbody tr th:only-of-type {\n",
       "        vertical-align: middle;\n",
       "    }\n",
       "\n",
       "    .dataframe tbody tr th {\n",
       "        vertical-align: top;\n",
       "    }\n",
       "\n",
       "    .dataframe thead th {\n",
       "        text-align: right;\n",
       "    }\n",
       "</style>\n",
       "<table border=\"1\" class=\"dataframe\">\n",
       "  <thead>\n",
       "    <tr style=\"text-align: right;\">\n",
       "      <th></th>\n",
       "      <th>hp</th>\n",
       "      <th>armor</th>\n",
       "      <th>magic_res</th>\n",
       "      <th>base_ad</th>\n",
       "      <th>as</th>\n",
       "    </tr>\n",
       "  </thead>\n",
       "  <tbody>\n",
       "    <tr>\n",
       "      <th>1</th>\n",
       "      <td>630.000</td>\n",
       "      <td>34.000</td>\n",
       "      <td>32.00000</td>\n",
       "      <td>57.0000</td>\n",
       "      <td>0.000000</td>\n",
       "    </tr>\n",
       "    <tr>\n",
       "      <th>2</th>\n",
       "      <td>708.480</td>\n",
       "      <td>37.744</td>\n",
       "      <td>33.47600</td>\n",
       "      <td>59.5200</td>\n",
       "      <td>0.018000</td>\n",
       "    </tr>\n",
       "    <tr>\n",
       "      <th>3</th>\n",
       "      <td>790.775</td>\n",
       "      <td>41.670</td>\n",
       "      <td>35.02375</td>\n",
       "      <td>62.1625</td>\n",
       "      <td>0.036875</td>\n",
       "    </tr>\n",
       "    <tr>\n",
       "      <th>4</th>\n",
       "      <td>876.885</td>\n",
       "      <td>45.778</td>\n",
       "      <td>36.64325</td>\n",
       "      <td>64.9275</td>\n",
       "      <td>0.056625</td>\n",
       "    </tr>\n",
       "    <tr>\n",
       "      <th>5</th>\n",
       "      <td>966.810</td>\n",
       "      <td>50.068</td>\n",
       "      <td>38.33450</td>\n",
       "      <td>67.8150</td>\n",
       "      <td>0.077250</td>\n",
       "    </tr>\n",
       "    <tr>\n",
       "      <th>6</th>\n",
       "      <td>1060.550</td>\n",
       "      <td>54.540</td>\n",
       "      <td>40.09750</td>\n",
       "      <td>70.8250</td>\n",
       "      <td>0.098750</td>\n",
       "    </tr>\n",
       "    <tr>\n",
       "      <th>7</th>\n",
       "      <td>1158.105</td>\n",
       "      <td>59.194</td>\n",
       "      <td>41.93225</td>\n",
       "      <td>73.9575</td>\n",
       "      <td>0.121125</td>\n",
       "    </tr>\n",
       "    <tr>\n",
       "      <th>8</th>\n",
       "      <td>1259.475</td>\n",
       "      <td>64.030</td>\n",
       "      <td>43.83875</td>\n",
       "      <td>77.2125</td>\n",
       "      <td>0.144375</td>\n",
       "    </tr>\n",
       "    <tr>\n",
       "      <th>9</th>\n",
       "      <td>1364.660</td>\n",
       "      <td>69.048</td>\n",
       "      <td>45.81700</td>\n",
       "      <td>80.5900</td>\n",
       "      <td>0.168500</td>\n",
       "    </tr>\n",
       "    <tr>\n",
       "      <th>10</th>\n",
       "      <td>1473.660</td>\n",
       "      <td>74.248</td>\n",
       "      <td>47.86700</td>\n",
       "      <td>84.0900</td>\n",
       "      <td>0.193500</td>\n",
       "    </tr>\n",
       "    <tr>\n",
       "      <th>11</th>\n",
       "      <td>1586.475</td>\n",
       "      <td>79.630</td>\n",
       "      <td>49.98875</td>\n",
       "      <td>87.7125</td>\n",
       "      <td>0.219375</td>\n",
       "    </tr>\n",
       "    <tr>\n",
       "      <th>12</th>\n",
       "      <td>1703.105</td>\n",
       "      <td>85.194</td>\n",
       "      <td>52.18225</td>\n",
       "      <td>91.4575</td>\n",
       "      <td>0.246125</td>\n",
       "    </tr>\n",
       "    <tr>\n",
       "      <th>13</th>\n",
       "      <td>1823.550</td>\n",
       "      <td>90.940</td>\n",
       "      <td>54.44750</td>\n",
       "      <td>95.3250</td>\n",
       "      <td>0.273750</td>\n",
       "    </tr>\n",
       "    <tr>\n",
       "      <th>14</th>\n",
       "      <td>1947.810</td>\n",
       "      <td>96.868</td>\n",
       "      <td>56.78450</td>\n",
       "      <td>99.3150</td>\n",
       "      <td>0.302250</td>\n",
       "    </tr>\n",
       "    <tr>\n",
       "      <th>15</th>\n",
       "      <td>2075.885</td>\n",
       "      <td>102.978</td>\n",
       "      <td>59.19325</td>\n",
       "      <td>103.4275</td>\n",
       "      <td>0.331625</td>\n",
       "    </tr>\n",
       "    <tr>\n",
       "      <th>16</th>\n",
       "      <td>2207.775</td>\n",
       "      <td>109.270</td>\n",
       "      <td>61.67375</td>\n",
       "      <td>107.6625</td>\n",
       "      <td>0.361875</td>\n",
       "    </tr>\n",
       "    <tr>\n",
       "      <th>17</th>\n",
       "      <td>2343.480</td>\n",
       "      <td>115.744</td>\n",
       "      <td>64.22600</td>\n",
       "      <td>112.0200</td>\n",
       "      <td>0.393000</td>\n",
       "    </tr>\n",
       "    <tr>\n",
       "      <th>18</th>\n",
       "      <td>2483.000</td>\n",
       "      <td>122.400</td>\n",
       "      <td>66.85000</td>\n",
       "      <td>116.5000</td>\n",
       "      <td>0.425000</td>\n",
       "    </tr>\n",
       "  </tbody>\n",
       "</table>\n",
       "</div>"
      ],
      "text/plain": [
       "          hp    armor  magic_res   base_ad        as\n",
       "1    630.000   34.000   32.00000   57.0000  0.000000\n",
       "2    708.480   37.744   33.47600   59.5200  0.018000\n",
       "3    790.775   41.670   35.02375   62.1625  0.036875\n",
       "4    876.885   45.778   36.64325   64.9275  0.056625\n",
       "5    966.810   50.068   38.33450   67.8150  0.077250\n",
       "6   1060.550   54.540   40.09750   70.8250  0.098750\n",
       "7   1158.105   59.194   41.93225   73.9575  0.121125\n",
       "8   1259.475   64.030   43.83875   77.2125  0.144375\n",
       "9   1364.660   69.048   45.81700   80.5900  0.168500\n",
       "10  1473.660   74.248   47.86700   84.0900  0.193500\n",
       "11  1586.475   79.630   49.98875   87.7125  0.219375\n",
       "12  1703.105   85.194   52.18225   91.4575  0.246125\n",
       "13  1823.550   90.940   54.44750   95.3250  0.273750\n",
       "14  1947.810   96.868   56.78450   99.3150  0.302250\n",
       "15  2075.885  102.978   59.19325  103.4275  0.331625\n",
       "16  2207.775  109.270   61.67375  107.6625  0.361875\n",
       "17  2343.480  115.744   64.22600  112.0200  0.393000\n",
       "18  2483.000  122.400   66.85000  116.5000  0.425000"
      ]
     },
     "execution_count": 18,
     "metadata": {},
     "output_type": "execute_result"
    }
   ],
   "source": [
    "viegoStat = pd.DataFrame(index=range(1,19),columns=['hp','armor','magic_res','ad','as'])\n",
    "viegoStat['hp'] = hp_list\n",
    "viegoStat['armor'] = armor_list\n",
    "viegoStat['magic_res'] = rm_list\n",
    "viegoStat['ad'] = ad_list\n",
    "viegoStat['as'] = bonus_as_list #Ici c'est le bonus d'attaque speed, il faut additionner les autres bonus\n",
    "viegoStat"
   ]
  },
  {
   "cell_type": "code",
   "execution_count": 19,
   "id": "ad11d4a4-4e8e-4460-8ec7-751ff42bd02c",
   "metadata": {},
   "outputs": [],
   "source": [
    "%run \"../class_champion.ipynb\""
   ]
  },
  {
   "cell_type": "code",
   "execution_count": 20,
   "id": "b9566704-f67b-4518-bd89-2af696776818",
   "metadata": {},
   "outputs": [],
   "source": [
    "viegoBase = Champion(\"viego\",viegoStat)"
   ]
  },
  {
   "cell_type": "code",
   "execution_count": 21,
   "id": "99d7255d-b977-49b2-b2ba-2c0937d60f5c",
   "metadata": {},
   "outputs": [
    {
     "name": "stdout",
     "output_type": "stream",
     "text": [
      "viego\n",
      "          hp    armor  magic_res   base_ad        as\n",
      "1    630.000   34.000   32.00000   57.0000  0.000000\n",
      "2    708.480   37.744   33.47600   59.5200  0.018000\n",
      "3    790.775   41.670   35.02375   62.1625  0.036875\n",
      "4    876.885   45.778   36.64325   64.9275  0.056625\n",
      "5    966.810   50.068   38.33450   67.8150  0.077250\n",
      "6   1060.550   54.540   40.09750   70.8250  0.098750\n",
      "7   1158.105   59.194   41.93225   73.9575  0.121125\n",
      "8   1259.475   64.030   43.83875   77.2125  0.144375\n",
      "9   1364.660   69.048   45.81700   80.5900  0.168500\n",
      "10  1473.660   74.248   47.86700   84.0900  0.193500\n",
      "11  1586.475   79.630   49.98875   87.7125  0.219375\n",
      "12  1703.105   85.194   52.18225   91.4575  0.246125\n",
      "13  1823.550   90.940   54.44750   95.3250  0.273750\n",
      "14  1947.810   96.868   56.78450   99.3150  0.302250\n",
      "15  2075.885  102.978   59.19325  103.4275  0.331625\n",
      "16  2207.775  109.270   61.67375  107.6625  0.361875\n",
      "17  2343.480  115.744   64.22600  112.0200  0.393000\n",
      "18  2483.000  122.400   66.85000  116.5000  0.425000\n"
     ]
    }
   ],
   "source": [
    "print(viegoBase)"
   ]
  },
  {
   "cell_type": "code",
   "execution_count": 33,
   "id": "242faca5-6d88-4b7a-a0e8-b7971749fd96",
   "metadata": {},
   "outputs": [],
   "source": [
    "pViego = html.find(\"div\" ,{'class' : 'skill skill_innate' })\n",
    "wViego = html.find(\"div\", {\"class\" : \"skill skill_w\"})"
   ]
  },
  {
   "cell_type": "code",
   "execution_count": 70,
   "id": "b70dbdb5-76cc-4d72-90ee-4dd7d84f864e",
   "metadata": {},
   "outputs": [
    {
     "name": "stdout",
     "output_type": "stream",
     "text": [
      "2%\n",
      "(+ 2.5% per 100 bonus AD)\n",
      "(+ 2% per 100 AP)\n",
      "(+ 5% per 100% bonus attack speed)\n",
      "8\n",
      "80 / 135 / 190 / 245 / 300 (+ 100% AP)\n",
      "+ 100% AP\n",
      "[80, 135, 190, 245, 300]\n"
     ]
    }
   ],
   "source": [
    "try :\n",
    "    print(pViego.find(\"span\", {'style' : \"color: #1F995C; white-space:normal\"}).text) #passif base\n",
    "    print(pViego.find(\"span\",{\"style\" : \"color:orange; white-space:normal\"}).text) #passif ratio 1\n",
    "    print(pViego.find(\"span\",{\"style\" : \"color: #7A6DFF; white-space:normal\"}).text) #passif ratio 2\n",
    "    print(pViego.find(\"span\",{\"style\" : \"color:orangered; white-space:normal\"}).text)#passif ratio 3\n",
    "    print(wViego.find(\"div\",{\"class\" : \"pi-data-value pi-font\"}).text) # W cd\n",
    "    print(wViego.find(\"dd\").text) # W dmg\n",
    "except AttributeError:\n",
    "    print(\"error\")\n",
    "\n",
    "print(re.search(r'\\(([^)]+)\\)', wViego.find(\"dd\").text).group(1) if re.search(r'\\(([^)]+)\\)', wViego.find(\"dd\").text) else None)\n",
    "print(list(map(int,re.sub(r'\\([^)]+\\)', '', wViego.find(\"dd\").text).split(\"/\"))))"
   ]
  },
  {
   "cell_type": "code",
   "execution_count": null,
   "id": "8a3a8bea-201f-40e4-8389-69660ee87214",
   "metadata": {},
   "outputs": [],
   "source": []
  },
  {
   "cell_type": "code",
   "execution_count": 135,
   "id": "4d1ef082",
   "metadata": {},
   "outputs": [
    {
     "name": "stdout",
     "output_type": "stream",
     "text": [
      "Cooldown\n",
      "\n",
      "[5.0, 4.5, 4.0, 3.5, 3.0]\n",
      "\n",
      "\n",
      "Bonus Damage Max/Min\n",
      "{'Bonus Physical Damage': \"2 / 3 / 4 / 5 / 6% of target's current health\", 'Minimum Bonus Damage': '10 / 15 / 20 / 25 / 30'}\n",
      "\n",
      "\n",
      "bonus damage 2\n",
      "['20% AD', '35% (+7%) AD', '(+ 15% AP)', '(+ 26.25% (+5.25%) AP)']\n",
      "\n",
      "Physical Damage Table:\n",
      "['15 / 30 / 45 / 60 / 75', '(+ 70% AD)', '', '×', '(1 + (100%\\xa0+0%) critical strike chance)']\n"
     ]
    }
   ],
   "source": [
    "\n",
    "def find_element_by_label(label, class_name):\n",
    "    if html is None:\n",
    "        return None\n",
    "\n",
    "    balise_h3 = html.find('h3', class_='pi-data-label {}'.format(class_name), string=label)\n",
    "\n",
    "    if balise_h3:\n",
    "        balise_suivante = balise_h3.find_next_sibling()\n",
    "\n",
    "        if balise_suivante:\n",
    "            return balise_suivante.text.strip()\n",
    "\n",
    "\n",
    "def get_cooldown_value():\n",
    "    return find_element_by_label('COOLDOWN:', 'pi-secondary-font')\n",
    "\n",
    "def Bonus_Damage():\n",
    "    stats_div = html.find('div', {'style': 'padding: 0 7px'})\n",
    "\n",
    "    if stats_div:\n",
    "        stats_dl_list = stats_div.find_all('dl', class_='skill-tabs')\n",
    "        stats = {}\n",
    "\n",
    "        for stats_dl in stats_dl_list:\n",
    "            dt = stats_dl.find('dt')\n",
    "            dd = stats_dl.find('dd')\n",
    "\n",
    "            if dt and dd:\n",
    "                label = dt.text.strip().replace(':', '')\n",
    "                value = dd.text.strip()\n",
    "                stats[label] = value\n",
    "        return stats\n",
    "\n",
    "    return None\n",
    "\n",
    "def format_to_list(chaine):\n",
    "    nombres = []\n",
    "    nombre_temporaire = \"\"\n",
    "    est_dans_nombre = False\n",
    "\n",
    "    for caractere in chaine:\n",
    "        if caractere.isdigit() or caractere == '.':\n",
    "            nombre_temporaire += caractere\n",
    "            est_dans_nombre = True\n",
    "        elif est_dans_nombre:\n",
    "            nombres.append(float(nombre_temporaire))\n",
    "            nombre_temporaire = \"\"\n",
    "            est_dans_nombre = False\n",
    "\n",
    "    if est_dans_nombre:\n",
    "        nombres.append(float(nombre_temporaire))\n",
    "\n",
    "    return nombres\n",
    "\n",
    "'''\n",
    "extrait le text sans balise\n",
    "'''\n",
    "def extract_text_without_tags(element):\n",
    "    \"\"\"\n",
    "    Extract text content from HTML without any tags.\n",
    "    \"\"\"\n",
    "    result = []\n",
    "    for item in element.children:\n",
    "        if isinstance(item, str):\n",
    "            if item != \"\\n\":\n",
    "                result.append(item)\n",
    "        else:\n",
    "            result += html.extract_text_without_tags(item)\n",
    "\n",
    "    return result\n",
    "\n",
    "def get_divs_above_img(img_alt_text):\n",
    "    img_tag = html.find('img', alt=img_alt_text)\n",
    "\n",
    "    if img_tag:\n",
    "        parent_div = img_tag.find_parent('div')\n",
    "        divs_above = parent_div.find_all_previous('div', limit=1)\n",
    "\n",
    "        return divs_above\n",
    "\n",
    "    return None\n",
    "def get_orange_and_blue_text(divs_above_img):\n",
    "    # color #7A6DFF bleu et orange\n",
    "    orange_and_blue_text = []\n",
    "\n",
    "    for div in divs_above_img:\n",
    "        orange_text = div.find_all('span', style=\"color:orange; white-space:normal\",limit=2)\n",
    "        blue_text = div.find_all('span', style=\"color: #7A6DFF; white-space:normal\")\n",
    "\n",
    "        for text in orange_text:\n",
    "            orange_and_blue_text.append(text.get_text(strip=True))\n",
    "\n",
    "        for text in blue_text:\n",
    "            orange_and_blue_text.append(text.get_text(strip=True))\n",
    "\n",
    "    return orange_and_blue_text\n",
    "\n",
    "def find_physical_damage_table():\n",
    "    physical_damage_span = html.find('span', {'class': 'template_lc'}, string='Physical Damage:')\n",
    "    if physical_damage_span:\n",
    "        table = physical_damage_span.find_previous('table')\n",
    "        dd_elements = table.find('dd', class_='')\n",
    "        dd_texts = [dd.get_text(strip=True) for dd in dd_elements]\n",
    "\n",
    "    return dd_texts\n",
    "\n",
    "def find_physical_damage_span():\n",
    "    return html.find('span', {'class': 'template_lc'}, string='Physical Damage:')\n",
    "\n",
    "# ancien main\n",
    "cooldown_value = get_cooldown_value()\n",
    "cooldown_value = format_to_list(cooldown_value)\n",
    "\n",
    "print(\"Cooldown\\n\")\n",
    "print(cooldown_value)\n",
    "print(\"\\n\")\n",
    "print(\"Bonus Damage Max/Min\")\n",
    "print(Bonus_Damage())\n",
    "print(\"\\n\")\n",
    "print(\"bonus damage 2\")\n",
    "img_alt_text = 'Blade of the Ruined King'\n",
    "divs_above_img = get_divs_above_img(img_alt_text)\n",
    "if divs_above_img:\n",
    "    orange_and_blue_text = get_orange_and_blue_text(divs_above_img)\n",
    "    print(orange_and_blue_text)\n",
    "physical_damage_table = find_physical_damage_table()\n",
    "if physical_damage_table:\n",
    "    print(\"\\nPhysical Damage Table:\")\n",
    "print(physical_damage_table)\n",
    "\n"
   ]
  }
 ],
 "metadata": {
  "kernelspec": {
   "display_name": "Python 3 (ipykernel)",
   "language": "python",
   "name": "python3"
  },
  "language_info": {
   "codemirror_mode": {
    "name": "ipython",
    "version": 3
   },
   "file_extension": ".py",
   "mimetype": "text/x-python",
   "name": "python",
   "nbconvert_exporter": "python",
   "pygments_lexer": "ipython3",
   "version": "3.12.0"
  }
 },
 "nbformat": 4,
 "nbformat_minor": 5
}
>>>>>>> 3d5aaab85367ad0d7de9d4f02da1e470c78c0643
