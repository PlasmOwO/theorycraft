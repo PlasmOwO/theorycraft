{
 "cells": [
  {
   "cell_type": "markdown",
   "id": "538a79d7-df6a-44d9-bce3-b716f2f6d738",
   "metadata": {},
   "source": [
    "# Class of champions"
   ]
  },
  {
   "cell_type": "code",
   "execution_count": 3,
   "id": "0cc4470f-c915-4dea-b1ed-2a854bd09e15",
   "metadata": {},
   "outputs": [],
   "source": [
    "class Champion:\n",
    "    def __init__(self, name : str, base_stats):\n",
    "        self.name = name\n",
    "        self.stats = base_stats\n",
    "\n",
    "    def __str__(self):\n",
    "        return self.name + \"\\n\" + self.stats.to_string()\n",
    "\n",
    "    def addItem(self,item):\n",
    "        \"\"\"\n",
    "            Add an item to a champion\n",
    "        \"\"\"\n",
    "        pass\n",
    "\n",
    "    def createList(self, lvl : int):\n",
    "        \"\"\"\n",
    "            Create a list from the index of the dataframe contained in the object.\n",
    "        \"\"\"\n",
    "        pass #doit return une list (comme pour le excel)\n",
    "        #Ensuite on ajoutera cette list au dataframe sur 1 champion\n",
    "    "
   ]
  },
  {
   "cell_type": "code",
   "execution_count": null,
   "id": "e62a6ccf-e959-4c72-bb90-780cc6a0e327",
   "metadata": {},
   "outputs": [],
   "source": []
  }
 ],
 "metadata": {
  "kernelspec": {
   "display_name": "Python 3 (ipykernel)",
   "language": "python",
   "name": "python3"
  },
  "language_info": {
   "codemirror_mode": {
    "name": "ipython",
    "version": 3
   },
   "file_extension": ".py",
   "mimetype": "text/x-python",
   "name": "python",
   "nbconvert_exporter": "python",
   "pygments_lexer": "ipython3",
   "version": "3.11.1"
  }
 },
 "nbformat": 4,
 "nbformat_minor": 5
}
